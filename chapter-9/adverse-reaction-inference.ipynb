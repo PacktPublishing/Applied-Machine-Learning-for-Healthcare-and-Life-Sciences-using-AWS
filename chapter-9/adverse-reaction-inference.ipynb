{
 "cells": [
  {
   "cell_type": "markdown",
   "id": "a9cde21c",
   "metadata": {},
   "source": [
    "# Adverse event clustering inference\n",
    "\n",
    "#### Note: This exercise is part of chapter 9 in the book \"Applied Machine Learning for Healthcare and Lifesciences on AWS\". Make sure you have completed the steps as outlined in the prerequisites section of chapter 9 to successfully complete this exercise.\n",
    "\n",
    "In this notebook, we will deploy our approved model in Sagemaker model registry and generate predictions from it. Make sure you have completed all the steps to train, register and approve the model as described in chapter 9 before running this notebook. "
   ]
  },
  {
   "cell_type": "markdown",
   "id": "58e26d3e",
   "metadata": {},
   "source": [
    "We start by importing the required libraries. "
   ]
  },
  {
   "cell_type": "code",
   "execution_count": 21,
   "id": "757dcf37",
   "metadata": {},
   "outputs": [],
   "source": [
    "from sagemaker import ModelPackage\n",
    "import time\n",
    "import boto3\n",
    "from sagemaker import get_execution_role\n",
    "from sagemaker.session import Session\n",
    "import sagemaker\n",
    "import pandas as pd\n",
    "from sagemaker.predictor import Predictor\n",
    "import matplotlib.pyplot as plt\n",
    "from sklearn.decomposition import PCA\n",
    "\n",
    "sagemaker_session=sagemaker.Session()\n",
    "role = get_execution_role()\n",
    "bucket = sagemaker_session.default_bucket()\n",
    "prefix = 'chapter9/data'"
   ]
  },
  {
   "cell_type": "markdown",
   "id": "f63a9e1d",
   "metadata": {},
   "source": [
    "Next, we get the model package ARN for our approved model"
   ]
  },
  {
   "cell_type": "code",
   "execution_count": 85,
   "id": "3bec524b",
   "metadata": {},
   "outputs": [
    {
     "name": "stderr",
     "output_type": "stream",
     "text": [
      "/home/ec2-user/anaconda3/envs/python3/lib/python3.6/site-packages/boto3/compat.py:88: PythonDeprecationWarning: Boto3 will no longer support Python 3.6 starting May 30, 2022. To continue receiving service updates, bug fixes, and security updates please upgrade to Python 3.7 or later. More information can be found here: https://aws.amazon.com/blogs/developer/python-support-policy-updates-for-aws-sdks-and-tools/\n",
      "  warnings.warn(warning, PythonDeprecationWarning)\n"
     ]
    },
    {
     "data": {
      "text/plain": [
       "'arn:aws:sagemaker:us-east-1:485822383573:model-package/adverse-event-clustering/9'"
      ]
     },
     "execution_count": 85,
     "metadata": {},
     "output_type": "execute_result"
    }
   ],
   "source": [
    "sm_client=boto3.client('sagemaker')\n",
    "package_arn=sm_client.list_model_packages(ModelPackageGroupName='adverse-event-clustering')['ModelPackageSummaryList'][0]['ModelPackageArn']\n",
    "package_arn"
   ]
  },
  {
   "cell_type": "markdown",
   "id": "129829f7",
   "metadata": {},
   "source": [
    "We are now ready to deploy our model."
   ]
  },
  {
   "cell_type": "code",
   "execution_count": 9,
   "id": "fd792548",
   "metadata": {},
   "outputs": [
    {
     "name": "stdout",
     "output_type": "stream",
     "text": [
      "-----------!"
     ]
    }
   ],
   "source": [
    "model = ModelPackage(role=role, \n",
    "                     model_package_arn=package_arn, \n",
    "                     sagemaker_session=sagemaker_session)\n",
    "endpoint_name = \"adverse-event-clustering-\" + time.strftime(\"%Y-%m-%d-%H-%M-%S\", time.gmtime())\n",
    "model.deploy(initial_instance_count=1, instance_type='ml.t2.medium', endpoint_name=endpoint_name)"
   ]
  },
  {
   "cell_type": "markdown",
   "id": "f43be15c",
   "metadata": {},
   "source": [
    "Let us now generate predictions from our deployed model. The model predicts either 0 or 1 denoting the cluster labels for the two clusters."
   ]
  },
  {
   "cell_type": "code",
   "execution_count": 15,
   "id": "e362dba1",
   "metadata": {},
   "outputs": [
    {
     "name": "stdout",
     "output_type": "stream",
     "text": [
      "[1, 1, 1, 1, 1, 1, 1, 1, 1, 1, 1, 1, 1, 1, 1, 1, 1, 1, 1, 1, 1, 1, 1, 1, 1, 1, 1, 1, 0, 0, 1, 1, 1, 1, 1, 1, 1, 1, 1, 1, 1, 1, 0, 1, 1, 0, 1, 1, 1, 1, 1, 1, 0, 1, 1, 1, 1, 1, 1, 1, 1, 1, 1, 1, 1, 1, 1, 1, 1, 1, 1, 1, 0, 1, 1, 1, 1, 1, 1, 0, 1, 1, 1, 1, 1, 1, 1, 1, 0, 0, 1, 1, 1, 1, 1, 1, 1, 1, 1, 1]\n"
     ]
    }
   ],
   "source": [
    "prediction_data=pd.read_csv('s3://{}/{}/prediction_data.csv'.format(bucket,prefix),header=None).round(10).to_string(header=False, index=False).replace(\"  \", \",\")\n",
    "pred = Predictor(endpoint_name=model.endpoint_name)\n",
    "predicitons=pred.predict(prediction_data, initial_args={\"ContentType\": \"text/csv\"})\n",
    "print(predicitons.decode(\"utf-8\"))"
   ]
  },
  {
   "cell_type": "markdown",
   "id": "6f19163e",
   "metadata": {},
   "source": [
    "We can look at a scatter plot to see how our clusters look like. "
   ]
  },
  {
   "cell_type": "code",
   "execution_count": 87,
   "id": "d8c87931",
   "metadata": {},
   "outputs": [
    {
     "data": {
      "text/plain": [
       "<matplotlib.collections.PathCollection at 0x7f25c8704160>"
      ]
     },
     "execution_count": 87,
     "metadata": {},
     "output_type": "execute_result"
    },
    {
     "data": {
      "image/png": "[encoded data removed]",
      "text/plain": [
       "<Figure size 432x288 with 1 Axes>"
      ]
     },
     "metadata": {
      "needs_background": "light"
     },
     "output_type": "display_data"
    }
   ],
   "source": [
    "data=pd.read_csv('s3://{}/{}/prediction_data.csv'.format(bucket,prefix),header=None)\n",
    "pca = PCA(n_components=2)\n",
    "new_data= pca.fit_transform(data)\n",
    "plt.scatter(new_data[:, 0], new_data[:, 1], s=25, cmap='viridis')"
   ]
  },
  {
   "cell_type": "markdown",
   "id": "c31b469a",
   "metadata": {},
   "source": [
    "This concludes our exercise. "
   ]
  }
 ],
 "metadata": {
  "kernelspec": {
   "display_name": "conda_python3",
   "language": "python",
   "name": "conda_python3"
  },
  "language_info": {
   "codemirror_mode": {
    "name": "ipython",
    "version": 3
   },
   "file_extension": ".py",
   "mimetype": "text/x-python",
   "name": "python",
   "nbconvert_exporter": "python",
   "pygments_lexer": "ipython3",
   "version": "3.6.13"
  }
 },
 "nbformat": 4,
 "nbformat_minor": 5
}
