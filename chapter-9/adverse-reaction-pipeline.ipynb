{
 "cells": [
  {
   "cell_type": "code",
   "execution_count": null,
   "id": "028b48e2",
   "metadata": {},
   "outputs": [],
   "source": [
    "import sys\n",
    "\n",
    "!{sys.executable} -m pip install \"sagemaker>=2.99.0\""
   ]
  },
  {
   "cell_type": "code",
   "execution_count": 1,
   "id": "b8e59158",
   "metadata": {},
   "outputs": [],
   "source": [
    "import sagemaker\n",
    "from sagemaker import get_execution_role\n",
    "from sagemaker.session import Session\n",
    "import boto3\n",
    "from sagemaker.sklearn.estimator import SKLearn\n",
    "from sagemaker.workflow.pipeline_context import PipelineSession"
   ]
  },
  {
   "cell_type": "code",
   "execution_count": 6,
   "id": "e8768ecb",
   "metadata": {},
   "outputs": [
    {
     "name": "stdout",
     "output_type": "stream",
     "text": [
      "Training input/output will be stored in sagemaker-us-east-1-485822383573/chapter9/data\n",
      "\n",
      "IAM Role: arn:aws:iam::485822383573:role/service-role/AmazonSageMaker-ExecutionRole-20220426T122295\n"
     ]
    }
   ],
   "source": [
    "sagemaker_session=sagemaker.Session()\n",
    "pipeline_session = PipelineSession()\n",
    "bucket = sagemaker_session.default_bucket()\n",
    "\n",
    "role = get_execution_role()\n",
    "prefix = 'chapter9/data'\n",
    "\n",
    "print('Training input/output will be stored in {}/{}'.format(bucket, prefix))\n",
    "print('\\nIAM Role: {}'.format(role))"
   ]
  },
  {
   "cell_type": "code",
   "execution_count": 7,
   "id": "51fa228c",
   "metadata": {},
   "outputs": [
    {
     "name": "stdout",
     "output_type": "stream",
     "text": [
      "Overwriting scripts/preprocessing.py\n"
     ]
    }
   ],
   "source": [
    "%%writefile scripts/preprocessing.py\n",
    "import csv\n",
    "import wget\n",
    "import zipfile\n",
    "import os\n",
    "import pandas as pd\n",
    "import boto3\n",
    "import time\n",
    "import json\n",
    "import argparse\n",
    "from sklearn.preprocessing import Normalizer\n",
    "from sklearn.feature_extraction.text import TfidfVectorizer\n",
    "import numpy as np\n",
    "\n",
    "parser = argparse.ArgumentParser()\n",
    "parser.add_argument('--bucket', type=str)\n",
    "parser.add_argument('--region',type=str)\n",
    "args = parser.parse_args()\n",
    "\n",
    "bucket=args.bucket\n",
    "cm = boto3.client('comprehendmedical',region_name=args.region)\n",
    "s3_client = boto3.client('s3',region_name=args.region)\n",
    "\n",
    "if os.path.exists('data')==False:\n",
    "    os.mkdir('data')\n",
    "\n",
    "file_url = 'https://archive.ics.uci.edu/ml/machine-learning-databases/00462/drugsCom_raw.zip'\n",
    "dest_file = 'data/drugsCom_raw.zip'\n",
    "\n",
    "print(\"Downloading source files...\")\n",
    "\n",
    "wget.download(file_url, dest_file)\n",
    "\n",
    "with zipfile.ZipFile('data/drugsCom_raw.zip', 'r') as zip_ref:\n",
    "    zip_ref.extractall('data')\n",
    "\n",
    "os.remove('data/drugsCom_raw.zip')\n",
    "\n",
    "orig_list = list()\n",
    "for filename in os.listdir('data'):\n",
    "    with open('data/'+filename) as csvfile:\n",
    "        myreader = csv.reader(csvfile, delimiter='\\t')\n",
    "        for row in myreader:\n",
    "            if row[0] == '':\n",
    "                continue\n",
    "            else:\n",
    "                orig_list.append({\n",
    "                    'id': row[0],\n",
    "                    'drugName': row[1],\n",
    "                    'condition': row[2],\n",
    "                    'review': row[3]\n",
    "                })\n",
    "\n",
    "    \n",
    "if os.path.exists('processed_data')==False:\n",
    "    os.mkdir('processed_data')\n",
    "    \n",
    "raw_df=pd.DataFrame.from_records(orig_list)\n",
    "raw_df.to_csv('processed_data/raw_df.csv', index=False)\n",
    "\n",
    "print(\"\\nRaw data processed from input files\")\n",
    "print(\"\\nRamdomly sampling 100 rows for topic extraction\")\n",
    "\n",
    "df_sample=raw_df.sample(n=100)\n",
    "sample_list = list()\n",
    "\n",
    "\n",
    "for index,row in df_sample.iterrows():\n",
    "    entities = cm.detect_entities(Text=row['review'])\n",
    "    topic_list = []\n",
    "    for entity in entities['Entities']:\n",
    "        if entity['Category'] == 'MEDICAL_CONDITION':\n",
    "            topic_list.append(entity['Text'])\n",
    "\n",
    "    sample_list.append({\n",
    "            'id': row['id'],\n",
    "            'drugName': row['drugName'],\n",
    "            'condition': row['condition'],\n",
    "            'review': row['review'],\n",
    "            'topics': topic_list[:5]\n",
    "        })\n",
    "        \n",
    "sample_df=pd.DataFrame.from_records(sample_list)\n",
    "\n",
    "sample_df.to_csv('processed_data/sample_df.csv', index=False) \n",
    "\n",
    "\n",
    "sampled_topics=pd.read_csv('processed_data/sample_df.csv')['topics'].tolist()\n",
    "print(sampled_topics)\n",
    "vectorizer = TfidfVectorizer()\n",
    "vecs = vectorizer.fit_transform(sampled_topics)\n",
    "normalizer = Normalizer(copy=False)\n",
    "normalized_data = normalizer.fit_transform(vecs).toarray()\n",
    "normalized_data.shape\n",
    "np.savetxt(\"processed_data/prediction_data.csv\", normalized_data, delimiter=\",\")\n",
    "\n",
    "\n",
    "\n",
    "\n",
    "s3_client.upload_file('processed_data/sample_df.csv', bucket, 'chapter9/data/sample_df.csv')\n",
    "s3_client.upload_file('processed_data/raw_df.csv', bucket, 'chapter9/data/raw_df.csv')\n",
    "s3_client.upload_file('processed_data/prediction_data.csv', bucket, 'chapter9/data/prediction_data.csv')\n",
    "\n",
    "\n",
    "print(\"\\nprocessed files uploaded to s3\")"
   ]
  },
  {
   "cell_type": "code",
   "execution_count": 8,
   "id": "95195e55",
   "metadata": {},
   "outputs": [],
   "source": [
    "#!python scripts/preprocessing.py --bucket $bucket --region $sagemaker_session.boto_session.region_name "
   ]
  },
  {
   "cell_type": "code",
   "execution_count": 9,
   "id": "3a1e3742",
   "metadata": {},
   "outputs": [
    {
     "name": "stdout",
     "output_type": "stream",
     "text": [
      "485822383573\n",
      "Login Succeeded\n",
      "\r\n",
      "Step 1/8 : FROM python:3.7-slim-buster\n",
      " ---> 8fe6e55c0412\n",
      "Step 2/8 : RUN pip install pandas\n",
      " ---> Using cache\n",
      " ---> ed3c2aadaa6e\n",
      "Step 3/8 : RUN pip install wget\n",
      " ---> Using cache\n",
      " ---> 93dc76d1c100\n",
      "Step 4/8 : RUN pip install boto3\n",
      " ---> Using cache\n",
      " ---> 43acfff1ec93\n",
      "Step 5/8 : RUN pip install sagemaker\n",
      " ---> Using cache\n",
      " ---> 0a0768240618\n",
      "Step 6/8 : RUN pip install scikit-learn\n",
      " ---> Using cache\n",
      " ---> 2ce6c8fc1e49\n",
      "Step 7/8 : ENV PYTHONUNBUFFERED=TRUE\n",
      " ---> Using cache\n",
      " ---> f68470613295\n",
      "Step 8/8 : ENTRYPOINT [\"python3\"]\n",
      " ---> Using cache\n",
      " ---> 41fbb5b0e27c\n",
      "Successfully built 41fbb5b0e27c\n",
      "Successfully tagged sagemaker-preprocessing:latest\n",
      "The push refers to repository [485822383573.dkr.ecr.us-east-1.amazonaws.com/sagemaker-preprocessing]\n",
      "20e4ef78b000: Preparing\n",
      "1cd08d11abf2: Preparing\n",
      "073fe9ab5fca: Preparing\n",
      "873a3963f49c: Preparing\n",
      "32682a294d34: Preparing\n",
      "cd77cebc5d3e: Preparing\n",
      "c899963fae46: Preparing\n",
      "353cc9dc1c96: Preparing\n",
      "c89d0deb3e29: Preparing\n",
      "735956b91a18: Preparing\n",
      "c89d0deb3e29: Waiting\n",
      "cd77cebc5d3e: Waiting\n",
      "735956b91a18: Waiting\n",
      "353cc9dc1c96: Waiting\n",
      "c899963fae46: Waiting\n",
      "073fe9ab5fca: Layer already exists\n",
      "20e4ef78b000: Layer already exists\n",
      "32682a294d34: Layer already exists\n",
      "1cd08d11abf2: Layer already exists\n",
      "873a3963f49c: Layer already exists\n",
      "cd77cebc5d3e: Layer already exists\n",
      "c899963fae46: Layer already exists\n",
      "c89d0deb3e29: Layer already exists\n",
      "353cc9dc1c96: Layer already exists\n",
      "735956b91a18: Layer already exists\n",
      "latest: digest: sha256:286e052a69cc9631505acf4a0051eb03e2229f2a616a514ea994839acda822fe size: 2428\n"
     ]
    },
    {
     "name": "stderr",
     "output_type": "stream",
     "text": [
      "WARNING! Using --password via the CLI is insecure. Use --password-stdin.\n",
      "WARNING! Your password will be stored unencrypted in /home/ec2-user/.docker/config.json.\n",
      "Configure a credential helper to remove this warning. See\n",
      "https://docs.docker.com/engine/reference/commandline/login/#credentials-store\n",
      "\n"
     ]
    }
   ],
   "source": [
    "%%sh\n",
    "\n",
    "docker_name=sagemaker-preprocessing\n",
    "account=$(aws sts get-caller-identity --query Account --output text)\n",
    "echo $account\n",
    "region=$(aws configure get region)\n",
    "\n",
    "fullname=\"${account}.dkr.ecr.${region}.amazonaws.com/${docker_name}:latest\"\n",
    "# If the repository doesn't exist in ECR, create it.\n",
    "aws ecr describe-repositories --repository-names \"${docker_name}\" > /dev/null 2>&1\n",
    "if [ $? -ne 0 ]\n",
    "then\n",
    "    aws ecr create-repository --repository-name \"${docker_name}\" > /dev/null\n",
    "fi\n",
    "\n",
    "# Get the login command from ECR and execute it directly\n",
    "$(aws ecr get-login --region ${region} --no-include-email)\n",
    "docker build -t $docker_name -f scripts/Dockerfile .\n",
    "docker tag ${docker_name} ${fullname}\n",
    "docker push ${fullname}"
   ]
  },
  {
   "cell_type": "code",
   "execution_count": 10,
   "id": "065ec9b3",
   "metadata": {},
   "outputs": [
    {
     "name": "stdout",
     "output_type": "stream",
     "text": [
      "485822383573.dkr.ecr.us-east-1.amazonaws.com/sagemaker-preprocessing:latest\n"
     ]
    },
    {
     "name": "stderr",
     "output_type": "stream",
     "text": [
      "/home/ec2-user/anaconda3/envs/python3/lib/python3.6/site-packages/sagemaker/workflow/pipeline_context.py:198: UserWarning: Running within a PipelineSession, there will be No Wait, No Logs, and No Job being started.\n",
      "  UserWarning,\n"
     ]
    },
    {
     "name": "stdout",
     "output_type": "stream",
     "text": [
      "\n",
      "Job Name:  sagemaker-preprocessing-2022-08-16-01-24-34-435\n",
      "Inputs:  [{'InputName': 'code', 'AppManaged': False, 'S3Input': {'S3Uri': 's3://sagemaker-us-east-1-485822383573/sagemaker-preprocessing-2022-08-16-01-24-34-435/input/code/preprocessing.py', 'LocalPath': '/opt/ml/processing/input/code', 'S3DataType': 'S3Prefix', 'S3InputMode': 'File', 'S3DataDistributionType': 'FullyReplicated', 'S3CompressionType': 'None'}}]\n",
      "Outputs:  []\n"
     ]
    }
   ],
   "source": [
    "from sagemaker.processing import ScriptProcessor\n",
    "from sagemaker.workflow.steps import ProcessingStep\n",
    "\n",
    "docker_name = \"sagemaker-preprocessing\"\n",
    "account = sagemaker_session.boto_session.client(\"sts\").get_caller_identity()[\"Account\"]\n",
    "region = sagemaker_session.boto_session.region_name\n",
    "image = \"{}.dkr.ecr.{}.amazonaws.com/{}:latest\".format(account, region, docker_name)\n",
    "print(image)\n",
    "script_processor = ScriptProcessor(image_uri=image,\n",
    "                role=role,\n",
    "                instance_count=1,\n",
    "                instance_type='ml.m5.xlarge',\n",
    "                command=['python3'],\n",
    "                sagemaker_session=pipeline_session)\n",
    "\n",
    "\n",
    "processor_args=script_processor.run(code='scripts/preprocessing.py',\n",
    "                    arguments = [\"--bucket\",bucket,'--region',region])\n",
    "\n",
    "\n",
    "\n",
    "step_process = ProcessingStep(\n",
    "    name=\"PreprocessData\",\n",
    "    step_args=processor_args,\n",
    ")\n"
   ]
  },
  {
   "cell_type": "code",
   "execution_count": 11,
   "id": "427bddc5",
   "metadata": {},
   "outputs": [
    {
     "name": "stdout",
     "output_type": "stream",
     "text": [
      "Overwriting scripts/train.py\n"
     ]
    }
   ],
   "source": [
    "%%writefile scripts/train.py\n",
    "\n",
    "import argparse\n",
    "import os\n",
    "import pandas as pd\n",
    "from sklearn.cluster import KMeans\n",
    "from sklearn.externals import joblib\n",
    "from sklearn.preprocessing import Normalizer\n",
    "from sklearn.feature_extraction.text import TfidfVectorizer\n",
    "from io import StringIO\n",
    "\n",
    "def model_fn(model_dir):\n",
    "    \n",
    "    kmeans = joblib.load(os.path.join(model_dir, \"kmeansmodel.joblib\"))\n",
    "    return kmeans\n",
    "\n",
    "def input_fn(input_data, content_type):\n",
    "    \n",
    "    if content_type == \"text/csv\":\n",
    "        # Read the raw input data as CSV.\n",
    "        df = pd.read_csv(StringIO(input_data), header=None)\n",
    "        return df\n",
    "    else:\n",
    "        raise ValueError(\"{} not supported by script!\".format(content_type))\n",
    "\n",
    "if __name__ == '__main__':\n",
    "    parser = argparse.ArgumentParser()\n",
    "    \n",
    "    # Hyperparameters are described here. In this simple example we are just including one hyperparameter.\n",
    "    parser.add_argument('--n_clusters', type=int, default=2)\n",
    "    parser.add_argument('--random_state', type=int, default=0)\n",
    "    \n",
    "    # Sagemaker specific arguments. Defaults are set in the environment variables.\n",
    "    parser.add_argument('--output-data-dir', type=str, default=os.environ['SM_OUTPUT_DATA_DIR'])\n",
    "    parser.add_argument('--model-dir', type=str, default=os.environ['SM_MODEL_DIR'])\n",
    "    parser.add_argument('--training', type=str, default=os.environ['SM_CHANNEL_TRAINING'])\n",
    "\n",
    "    args = parser.parse_args()\n",
    "    \n",
    "    input_files = [ os.path.join(args.training, file) for file in os.listdir(args.training) ]\n",
    "    if len(input_files) == 0:\n",
    "        raise ValueError(('There are no files in {}.\\n' +\n",
    "                          'This usually indicates that the channel ({}) was incorrectly specified,\\n' +\n",
    "                          'the data specification in S3 was incorrectly specified or the role specified\\n' +\n",
    "                          'does not have permission to access the data.').format(args.training, \"train\"))\n",
    "    \n",
    "    raw_data = [ pd.read_csv(file) for file in input_files ]\n",
    "    train_data = pd.concat(raw_data)\n",
    "    print(train_data.shape)\n",
    "    kmeans = KMeans(n_clusters=2,random_state=0).fit(train_data)\n",
    "    joblib.dump(kmeans, os.path.join(args.model_dir, \"kmeansmodel.joblib\"))\n"
   ]
  },
  {
   "cell_type": "code",
   "execution_count": 12,
   "id": "0689221a",
   "metadata": {},
   "outputs": [],
   "source": [
    "from sagemaker.workflow.steps import TrainingStep\n",
    "\n",
    "model_path= f\"s3://{bucket}/{prefix}/model/\"\n",
    "\n",
    "\n",
    "sklearn = SKLearn(\n",
    "    source_dir='scripts',\n",
    "    entry_point='train.py',\n",
    "    instance_type=\"ml.m4.xlarge\",\n",
    "    role = role,\n",
    "    sagemaker_session=pipeline_session,\n",
    "    framework_version='0.20.0',\n",
    "    output_path=model_path,\n",
    "    hyperparameters={'n_clusters': 2, 'random_state':0})\n",
    "\n",
    "train_args=sklearn.fit({'training': 's3://{}/{}/prediction_data.csv'.format(bucket,prefix)})\n",
    "step_train_model = TrainingStep(name=\"TrainModel\", step_args=train_args)\n",
    "step_train_model.add_depends_on([step_process])"
   ]
  },
  {
   "cell_type": "code",
   "execution_count": 13,
   "id": "fb3fd4d0",
   "metadata": {},
   "outputs": [],
   "source": [
    "from sagemaker.model import Model\n",
    "from sagemaker.sklearn.model import SKLearnModel\n",
    "from sagemaker.workflow.model_step import ModelStep\n",
    "\n",
    "\n",
    "\n",
    "clustering_model = SKLearnModel(\n",
    "    model_data=step_train_model.properties.ModelArtifacts.S3ModelArtifacts,\n",
    "    role=role,\n",
    "    sagemaker_session=pipeline_session,\n",
    "    entry_point=\"scripts/train.py\",\n",
    "    framework_version='0.20.0',\n",
    "    \n",
    ")\n",
    "\n",
    "\n",
    "\n",
    "register_model_step_args = clustering_model.register(\n",
    "    content_types=[\"text/csv\"],\n",
    "   response_types=[\"text/csv\"],\n",
    "   inference_instances=[\"ml.t2.medium\"],\n",
    "   model_package_group_name='adverse-event-clustering'\n",
    ")\n",
    "\n",
    "step_register=ModelStep(name='adverse-event-clustering-model', step_args=register_model_step_args)"
   ]
  },
  {
   "cell_type": "code",
   "execution_count": 14,
   "id": "6bcb8d1e",
   "metadata": {},
   "outputs": [],
   "source": [
    "from sagemaker.workflow.pipeline import Pipeline\n",
    "\n",
    "pipeline = Pipeline(\n",
    "    name=\"adverse-drug-reaction\",\n",
    "    steps=[step_process, step_train_model, step_register]\n",
    ")"
   ]
  },
  {
   "cell_type": "code",
   "execution_count": 15,
   "id": "10628f8f",
   "metadata": {},
   "outputs": [
    {
     "data": {
      "text/plain": [
       "{'Version': '2020-12-01',\n",
       " 'Metadata': {},\n",
       " 'Parameters': [],\n",
       " 'PipelineExperimentConfig': {'ExperimentName': {'Get': 'Execution.PipelineName'},\n",
       "  'TrialName': {'Get': 'Execution.PipelineExecutionId'}},\n",
       " 'Steps': [{'Name': 'PreprocessData',\n",
       "   'Type': 'Processing',\n",
       "   'Arguments': {'ProcessingResources': {'ClusterConfig': {'InstanceType': 'ml.m5.xlarge',\n",
       "      'InstanceCount': 1,\n",
       "      'VolumeSizeInGB': 30}},\n",
       "    'AppSpecification': {'ImageUri': '485822383573.dkr.ecr.us-east-1.amazonaws.com/sagemaker-preprocessing:latest',\n",
       "     'ContainerArguments': ['--bucket',\n",
       "      'sagemaker-us-east-1-485822383573',\n",
       "      '--region',\n",
       "      'us-east-1'],\n",
       "     'ContainerEntrypoint': ['python3',\n",
       "      '/opt/ml/processing/input/code/preprocessing.py']},\n",
       "    'RoleArn': 'arn:aws:iam::485822383573:role/service-role/AmazonSageMaker-ExecutionRole-20220426T122295',\n",
       "    'ProcessingInputs': [{'InputName': 'code',\n",
       "      'AppManaged': False,\n",
       "      'S3Input': {'S3Uri': 's3://sagemaker-us-east-1-485822383573/sagemaker-preprocessing-2022-08-16-01-24-34-435/input/code/preprocessing.py',\n",
       "       'LocalPath': '/opt/ml/processing/input/code',\n",
       "       'S3DataType': 'S3Prefix',\n",
       "       'S3InputMode': 'File',\n",
       "       'S3DataDistributionType': 'FullyReplicated',\n",
       "       'S3CompressionType': 'None'}}]}},\n",
       "  {'Name': 'TrainModel',\n",
       "   'Type': 'Training',\n",
       "   'Arguments': {'AlgorithmSpecification': {'TrainingInputMode': 'File',\n",
       "     'TrainingImage': '683313688378.dkr.ecr.us-east-1.amazonaws.com/sagemaker-scikit-learn:0.20.0-cpu-py3'},\n",
       "    'OutputDataConfig': {'S3OutputPath': 's3://sagemaker-us-east-1-485822383573/chapter9/data/model/'},\n",
       "    'StoppingCondition': {'MaxRuntimeInSeconds': 86400},\n",
       "    'ResourceConfig': {'VolumeSizeInGB': 30,\n",
       "     'InstanceCount': 1,\n",
       "     'InstanceType': 'ml.m4.xlarge'},\n",
       "    'RoleArn': 'arn:aws:iam::485822383573:role/service-role/AmazonSageMaker-ExecutionRole-20220426T122295',\n",
       "    'InputDataConfig': [{'DataSource': {'S3DataSource': {'S3DataType': 'S3Prefix',\n",
       "        'S3Uri': 's3://sagemaker-us-east-1-485822383573/chapter9/data/prediction_data.csv',\n",
       "        'S3DataDistributionType': 'FullyReplicated'}},\n",
       "      'ChannelName': 'training'}],\n",
       "    'HyperParameters': {'n_clusters': '2',\n",
       "     'random_state': '0',\n",
       "     'sagemaker_submit_directory': '\"s3://sagemaker-us-east-1-485822383573/sagemaker-scikit-learn-2022-08-16-01-24-36-632/source/sourcedir.tar.gz\"',\n",
       "     'sagemaker_program': '\"train.py\"',\n",
       "     'sagemaker_container_log_level': '20',\n",
       "     'sagemaker_region': '\"us-east-1\"'},\n",
       "    'DebugHookConfig': {'S3OutputPath': 's3://sagemaker-us-east-1-485822383573/chapter9/data/model/',\n",
       "     'CollectionConfigurations': []},\n",
       "    'ProfilerRuleConfigurations': [{'RuleConfigurationName': 'ProfilerReport-1660613076',\n",
       "      'RuleEvaluatorImage': '503895931360.dkr.ecr.us-east-1.amazonaws.com/sagemaker-debugger-rules:latest',\n",
       "      'RuleParameters': {'rule_to_invoke': 'ProfilerReport'}}],\n",
       "    'ProfilerConfig': {'S3OutputPath': 's3://sagemaker-us-east-1-485822383573/chapter9/data/model/'}},\n",
       "   'DependsOn': ['PreprocessData']},\n",
       "  {'Name': 'adverse-event-clustering-model-RegisterModel',\n",
       "   'Type': 'RegisterModel',\n",
       "   'Arguments': {'ModelPackageGroupName': 'adverse-event-clustering',\n",
       "    'InferenceSpecification': {'Containers': [{'Image': '683313688378.dkr.ecr.us-east-1.amazonaws.com/sagemaker-scikit-learn:0.20.0-cpu-py3',\n",
       "       'Environment': {'SAGEMAKER_PROGRAM': 'train.py',\n",
       "        'SAGEMAKER_SUBMIT_DIRECTORY': 's3://sagemaker-us-east-1-485822383573/sagemaker-scikit-learn-2022-08-16-01-24-38-454/sourcedir.tar.gz',\n",
       "        'SAGEMAKER_CONTAINER_LOG_LEVEL': '20',\n",
       "        'SAGEMAKER_REGION': 'us-east-1'},\n",
       "       'ModelDataUrl': {'Get': 'Steps.TrainModel.ModelArtifacts.S3ModelArtifacts'},\n",
       "       'Framework': 'SKLEARN',\n",
       "       'FrameworkVersion': '0.20.0'}],\n",
       "     'SupportedContentTypes': ['text/csv'],\n",
       "     'SupportedResponseMIMETypes': ['text/csv'],\n",
       "     'SupportedRealtimeInferenceInstanceTypes': ['ml.t2.medium']},\n",
       "    'ModelApprovalStatus': 'PendingManualApproval'}}]}"
      ]
     },
     "execution_count": 15,
     "metadata": {},
     "output_type": "execute_result"
    }
   ],
   "source": [
    "import json\n",
    "definition = json.loads(pipeline.definition())\n",
    "definition"
   ]
  },
  {
   "cell_type": "code",
   "execution_count": 16,
   "id": "1d8256ea",
   "metadata": {},
   "outputs": [
    {
     "data": {
      "text/plain": [
       "{'PipelineArn': 'arn:aws:sagemaker:us-east-1:485822383573:pipeline/adverse-drug-reaction',\n",
       " 'ResponseMetadata': {'RequestId': '21caa611-b96e-4e37-af34-b6c47e70e945',\n",
       "  'HTTPStatusCode': 200,\n",
       "  'HTTPHeaders': {'x-amzn-requestid': '21caa611-b96e-4e37-af34-b6c47e70e945',\n",
       "   'content-type': 'application/x-amz-json-1.1',\n",
       "   'content-length': '89',\n",
       "   'date': 'Tue, 16 Aug 2022 01:25:25 GMT'},\n",
       "  'RetryAttempts': 0}}"
      ]
     },
     "execution_count": 16,
     "metadata": {},
     "output_type": "execute_result"
    }
   ],
   "source": [
    "pipeline.upsert(role_arn=role)"
   ]
  },
  {
   "cell_type": "code",
   "execution_count": 17,
   "id": "8e033a91",
   "metadata": {},
   "outputs": [],
   "source": [
    "execution = pipeline.start()"
   ]
  },
  {
   "cell_type": "code",
   "execution_count": 18,
   "id": "9aa92e04",
   "metadata": {},
   "outputs": [
    {
     "data": {
      "text/plain": [
       "{'PipelineArn': 'arn:aws:sagemaker:us-east-1:485822383573:pipeline/adverse-drug-reaction',\n",
       " 'PipelineExecutionArn': 'arn:aws:sagemaker:us-east-1:485822383573:pipeline/adverse-drug-reaction/execution/7hzfj8g9p4o7',\n",
       " 'PipelineExecutionDisplayName': 'execution-1660613127172',\n",
       " 'PipelineExecutionStatus': 'Executing',\n",
       " 'PipelineExperimentConfig': {'ExperimentName': 'adverse-drug-reaction',\n",
       "  'TrialName': '7hzfj8g9p4o7'},\n",
       " 'CreationTime': datetime.datetime(2022, 8, 16, 1, 25, 27, 94000, tzinfo=tzlocal()),\n",
       " 'LastModifiedTime': datetime.datetime(2022, 8, 16, 1, 25, 27, 94000, tzinfo=tzlocal()),\n",
       " 'CreatedBy': {},\n",
       " 'LastModifiedBy': {},\n",
       " 'ResponseMetadata': {'RequestId': '4451c759-bd77-48fc-be65-cf2a383ec9d7',\n",
       "  'HTTPStatusCode': 200,\n",
       "  'HTTPHeaders': {'x-amzn-requestid': '4451c759-bd77-48fc-be65-cf2a383ec9d7',\n",
       "   'content-type': 'application/x-amz-json-1.1',\n",
       "   'content-length': '504',\n",
       "   'date': 'Tue, 16 Aug 2022 01:25:28 GMT'},\n",
       "  'RetryAttempts': 0}}"
      ]
     },
     "execution_count": 18,
     "metadata": {},
     "output_type": "execute_result"
    }
   ],
   "source": [
    "execution.describe()"
   ]
  },
  {
   "cell_type": "code",
   "execution_count": 19,
   "id": "411ca66a",
   "metadata": {},
   "outputs": [],
   "source": [
    "execution.wait()"
   ]
  }
 ],
 "metadata": {
  "kernelspec": {
   "display_name": "conda_python3",
   "language": "python",
   "name": "conda_python3"
  },
  "language_info": {
   "codemirror_mode": {
    "name": "ipython",
    "version": 3
   },
   "file_extension": ".py",
   "mimetype": "text/x-python",
   "name": "python",
   "nbconvert_exporter": "python",
   "pygments_lexer": "ipython3",
   "version": "3.6.13"
  }
 },
 "nbformat": 4,
 "nbformat_minor": 5
}
