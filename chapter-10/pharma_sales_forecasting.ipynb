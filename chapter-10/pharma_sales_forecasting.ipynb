{
 "cells": [
  {
   "cell_type": "code",
   "execution_count": 43,
   "metadata": {},
   "outputs": [],
   "source": [
    "import pandas as pd\n",
    "import matplotlib.pyplot as plt"
   ]
  },
  {
   "cell_type": "markdown",
   "metadata": {},
   "source": [
    "Based on : https://github.com/aws-samples/amazon-forecast-samples/blob/master/notebooks/advanced/Incorporating_Related_Time_Series_dataset_to_your_Predictor/Incorporating_Related_Time_Series_dataset_to_your_Predictor.ipynb"
   ]
  },
  {
   "cell_type": "markdown",
   "metadata": {},
   "source": [
    "Data files available here : https://www.kaggle.com/code/milanzdravkovic/pharma-sales-data-analysis-and-forecasting/data"
   ]
  },
  {
   "cell_type": "code",
   "execution_count": 96,
   "metadata": {},
   "outputs": [],
   "source": [
    "hourly_raw=pd.read_csv('data/saleshourly.csv')\n",
    "daily_raw=pd.read_csv('data/salesdaily.csv')"
   ]
  },
  {
   "cell_type": "code",
   "execution_count": 98,
   "metadata": {},
   "outputs": [
    {
     "data": {
      "text/html": [
       "<div>\n",
       "<style scoped>\n",
       "    .dataframe tbody tr th:only-of-type {\n",
       "        vertical-align: middle;\n",
       "    }\n",
       "\n",
       "    .dataframe tbody tr th {\n",
       "        vertical-align: top;\n",
       "    }\n",
       "\n",
       "    .dataframe thead th {\n",
       "        text-align: right;\n",
       "    }\n",
       "</style>\n",
       "<table border=\"1\" class=\"dataframe\">\n",
       "  <thead>\n",
       "    <tr style=\"text-align: right;\">\n",
       "      <th></th>\n",
       "      <th>datum</th>\n",
       "      <th>M01AB</th>\n",
       "      <th>M01AE</th>\n",
       "      <th>N02BA</th>\n",
       "      <th>N02BE</th>\n",
       "      <th>N05B</th>\n",
       "      <th>N05C</th>\n",
       "      <th>R03</th>\n",
       "      <th>R06</th>\n",
       "      <th>Year</th>\n",
       "      <th>Month</th>\n",
       "      <th>Hour</th>\n",
       "      <th>Weekday Name</th>\n",
       "    </tr>\n",
       "  </thead>\n",
       "  <tbody>\n",
       "    <tr>\n",
       "      <th>0</th>\n",
       "      <td>1/2/2014 8:00</td>\n",
       "      <td>0.0</td>\n",
       "      <td>0.67</td>\n",
       "      <td>0.4</td>\n",
       "      <td>2.0</td>\n",
       "      <td>0.0</td>\n",
       "      <td>0.0</td>\n",
       "      <td>0.0</td>\n",
       "      <td>1.0</td>\n",
       "      <td>2014</td>\n",
       "      <td>1</td>\n",
       "      <td>8</td>\n",
       "      <td>Thursday</td>\n",
       "    </tr>\n",
       "    <tr>\n",
       "      <th>1</th>\n",
       "      <td>1/2/2014 9:00</td>\n",
       "      <td>0.0</td>\n",
       "      <td>0.00</td>\n",
       "      <td>1.0</td>\n",
       "      <td>0.0</td>\n",
       "      <td>2.0</td>\n",
       "      <td>0.0</td>\n",
       "      <td>0.0</td>\n",
       "      <td>0.0</td>\n",
       "      <td>2014</td>\n",
       "      <td>1</td>\n",
       "      <td>9</td>\n",
       "      <td>Thursday</td>\n",
       "    </tr>\n",
       "    <tr>\n",
       "      <th>2</th>\n",
       "      <td>1/2/2014 10:00</td>\n",
       "      <td>0.0</td>\n",
       "      <td>0.00</td>\n",
       "      <td>0.0</td>\n",
       "      <td>3.0</td>\n",
       "      <td>2.0</td>\n",
       "      <td>0.0</td>\n",
       "      <td>0.0</td>\n",
       "      <td>0.0</td>\n",
       "      <td>2014</td>\n",
       "      <td>1</td>\n",
       "      <td>10</td>\n",
       "      <td>Thursday</td>\n",
       "    </tr>\n",
       "    <tr>\n",
       "      <th>3</th>\n",
       "      <td>1/2/2014 11:00</td>\n",
       "      <td>0.0</td>\n",
       "      <td>0.00</td>\n",
       "      <td>0.0</td>\n",
       "      <td>2.0</td>\n",
       "      <td>1.0</td>\n",
       "      <td>0.0</td>\n",
       "      <td>0.0</td>\n",
       "      <td>0.0</td>\n",
       "      <td>2014</td>\n",
       "      <td>1</td>\n",
       "      <td>11</td>\n",
       "      <td>Thursday</td>\n",
       "    </tr>\n",
       "    <tr>\n",
       "      <th>4</th>\n",
       "      <td>1/2/2014 12:00</td>\n",
       "      <td>0.0</td>\n",
       "      <td>2.00</td>\n",
       "      <td>0.0</td>\n",
       "      <td>5.0</td>\n",
       "      <td>2.0</td>\n",
       "      <td>0.0</td>\n",
       "      <td>0.0</td>\n",
       "      <td>0.0</td>\n",
       "      <td>2014</td>\n",
       "      <td>1</td>\n",
       "      <td>12</td>\n",
       "      <td>Thursday</td>\n",
       "    </tr>\n",
       "  </tbody>\n",
       "</table>\n",
       "</div>"
      ],
      "text/plain": [
       "            datum  M01AB  M01AE  N02BA  N02BE  N05B  N05C  R03  R06  Year  \\\n",
       "0   1/2/2014 8:00    0.0   0.67    0.4    2.0   0.0   0.0  0.0  1.0  2014   \n",
       "1   1/2/2014 9:00    0.0   0.00    1.0    0.0   2.0   0.0  0.0  0.0  2014   \n",
       "2  1/2/2014 10:00    0.0   0.00    0.0    3.0   2.0   0.0  0.0  0.0  2014   \n",
       "3  1/2/2014 11:00    0.0   0.00    0.0    2.0   1.0   0.0  0.0  0.0  2014   \n",
       "4  1/2/2014 12:00    0.0   2.00    0.0    5.0   2.0   0.0  0.0  0.0  2014   \n",
       "\n",
       "   Month  Hour Weekday Name  \n",
       "0      1     8     Thursday  \n",
       "1      1     9     Thursday  \n",
       "2      1    10     Thursday  \n",
       "3      1    11     Thursday  \n",
       "4      1    12     Thursday  "
      ]
     },
     "execution_count": 98,
     "metadata": {},
     "output_type": "execute_result"
    }
   ],
   "source": [
    "hourly_raw.head"
   ]
  },
  {
   "cell_type": "code",
   "execution_count": 99,
   "metadata": {},
   "outputs": [
    {
     "data": {
      "text/html": [
       "<div>\n",
       "<style scoped>\n",
       "    .dataframe tbody tr th:only-of-type {\n",
       "        vertical-align: middle;\n",
       "    }\n",
       "\n",
       "    .dataframe tbody tr th {\n",
       "        vertical-align: top;\n",
       "    }\n",
       "\n",
       "    .dataframe thead th {\n",
       "        text-align: right;\n",
       "    }\n",
       "</style>\n",
       "<table border=\"1\" class=\"dataframe\">\n",
       "  <thead>\n",
       "    <tr style=\"text-align: right;\">\n",
       "      <th></th>\n",
       "      <th>datum</th>\n",
       "      <th>M01AB</th>\n",
       "      <th>M01AE</th>\n",
       "      <th>N02BA</th>\n",
       "      <th>N02BE</th>\n",
       "      <th>N05B</th>\n",
       "      <th>N05C</th>\n",
       "      <th>R03</th>\n",
       "      <th>R06</th>\n",
       "      <th>Year</th>\n",
       "      <th>Month</th>\n",
       "      <th>Hour</th>\n",
       "      <th>Weekday Name</th>\n",
       "    </tr>\n",
       "  </thead>\n",
       "  <tbody>\n",
       "    <tr>\n",
       "      <th>0</th>\n",
       "      <td>1/2/2014</td>\n",
       "      <td>0.0</td>\n",
       "      <td>3.67</td>\n",
       "      <td>3.4</td>\n",
       "      <td>32.40</td>\n",
       "      <td>7.0</td>\n",
       "      <td>0.0</td>\n",
       "      <td>0.0</td>\n",
       "      <td>2.0</td>\n",
       "      <td>2014</td>\n",
       "      <td>1</td>\n",
       "      <td>248</td>\n",
       "      <td>Thursday</td>\n",
       "    </tr>\n",
       "    <tr>\n",
       "      <th>1</th>\n",
       "      <td>1/3/2014</td>\n",
       "      <td>8.0</td>\n",
       "      <td>4.00</td>\n",
       "      <td>4.4</td>\n",
       "      <td>50.60</td>\n",
       "      <td>16.0</td>\n",
       "      <td>0.0</td>\n",
       "      <td>20.0</td>\n",
       "      <td>4.0</td>\n",
       "      <td>2014</td>\n",
       "      <td>1</td>\n",
       "      <td>276</td>\n",
       "      <td>Friday</td>\n",
       "    </tr>\n",
       "    <tr>\n",
       "      <th>2</th>\n",
       "      <td>1/4/2014</td>\n",
       "      <td>2.0</td>\n",
       "      <td>1.00</td>\n",
       "      <td>6.5</td>\n",
       "      <td>61.85</td>\n",
       "      <td>10.0</td>\n",
       "      <td>0.0</td>\n",
       "      <td>9.0</td>\n",
       "      <td>1.0</td>\n",
       "      <td>2014</td>\n",
       "      <td>1</td>\n",
       "      <td>276</td>\n",
       "      <td>Saturday</td>\n",
       "    </tr>\n",
       "    <tr>\n",
       "      <th>3</th>\n",
       "      <td>1/5/2014</td>\n",
       "      <td>4.0</td>\n",
       "      <td>3.00</td>\n",
       "      <td>7.0</td>\n",
       "      <td>41.10</td>\n",
       "      <td>8.0</td>\n",
       "      <td>0.0</td>\n",
       "      <td>3.0</td>\n",
       "      <td>0.0</td>\n",
       "      <td>2014</td>\n",
       "      <td>1</td>\n",
       "      <td>276</td>\n",
       "      <td>Sunday</td>\n",
       "    </tr>\n",
       "    <tr>\n",
       "      <th>4</th>\n",
       "      <td>1/6/2014</td>\n",
       "      <td>5.0</td>\n",
       "      <td>1.00</td>\n",
       "      <td>4.5</td>\n",
       "      <td>21.70</td>\n",
       "      <td>16.0</td>\n",
       "      <td>2.0</td>\n",
       "      <td>6.0</td>\n",
       "      <td>2.0</td>\n",
       "      <td>2014</td>\n",
       "      <td>1</td>\n",
       "      <td>276</td>\n",
       "      <td>Monday</td>\n",
       "    </tr>\n",
       "  </tbody>\n",
       "</table>\n",
       "</div>"
      ],
      "text/plain": [
       "      datum  M01AB  M01AE  N02BA  N02BE  N05B  N05C   R03  R06  Year  Month  \\\n",
       "0  1/2/2014    0.0   3.67    3.4  32.40   7.0   0.0   0.0  2.0  2014      1   \n",
       "1  1/3/2014    8.0   4.00    4.4  50.60  16.0   0.0  20.0  4.0  2014      1   \n",
       "2  1/4/2014    2.0   1.00    6.5  61.85  10.0   0.0   9.0  1.0  2014      1   \n",
       "3  1/5/2014    4.0   3.00    7.0  41.10   8.0   0.0   3.0  0.0  2014      1   \n",
       "4  1/6/2014    5.0   1.00    4.5  21.70  16.0   2.0   6.0  2.0  2014      1   \n",
       "\n",
       "   Hour Weekday Name  \n",
       "0   248     Thursday  \n",
       "1   276       Friday  \n",
       "2   276     Saturday  \n",
       "3   276       Sunday  \n",
       "4   276       Monday  "
      ]
     },
     "execution_count": 99,
     "metadata": {},
     "output_type": "execute_result"
    }
   ],
   "source": [
    "daily_raw.head()"
   ]
  },
  {
   "cell_type": "code",
   "execution_count": 46,
   "metadata": {},
   "outputs": [],
   "source": [
    "import boto3\n",
    "import sagemaker\n",
    "\n",
    "region = boto3.Session(\"s3\").region_name\n",
    "session = boto3.Session(region_name=region) \n",
    "forecast = session.client(service_name='forecast')\n",
    "forecastquery = session.client(service_name='forecastquery')\n",
    "account_id = boto3.client('sts').get_caller_identity().get('Account')\n",
    "\n",
    "assert forecast.list_predictors()\n",
    "sagemaker_session = sagemaker.session.Session()\n",
    "bucket_name = sagemaker_session.default_bucket()\n",
    "key='chapter10/data'\n"
   ]
  },
  {
   "cell_type": "code",
   "execution_count": 47,
   "metadata": {},
   "outputs": [],
   "source": [
    "import json\n",
    "from tqdm.auto import trange\n",
    "def get_or_create_iam_role( role_name ):\n",
    "\n",
    "    iam = boto3.client(\"iam\")\n",
    "\n",
    "    assume_role_policy_document = {\n",
    "        \"Version\": \"2012-10-17\",\n",
    "        \"Statement\": [\n",
    "            {\n",
    "              \"Effect\": \"Allow\",\n",
    "              \"Principal\": {\n",
    "                \"Service\": \"forecast.amazonaws.com\"\n",
    "              },\n",
    "              \"Action\": \"sts:AssumeRole\"\n",
    "            }\n",
    "        ]\n",
    "    }\n",
    "\n",
    "    try:\n",
    "        create_role_response = iam.create_role(\n",
    "            RoleName = role_name,\n",
    "            AssumeRolePolicyDocument = json.dumps(assume_role_policy_document)\n",
    "        )\n",
    "        role_arn = create_role_response[\"Role\"][\"Arn\"]\n",
    "        print(\"Created\", role_arn)\n",
    "        \n",
    "        print(\"Attaching policies...\")\n",
    "        iam.attach_role_policy(\n",
    "            RoleName = role_name,\n",
    "            PolicyArn = \"arn:aws:iam::aws:policy/AmazonForecastFullAccess\"\n",
    "        )\n",
    "\n",
    "        iam.attach_role_policy(\n",
    "            RoleName=role_name,\n",
    "            PolicyArn='arn:aws:iam::aws:policy/AmazonS3FullAccess',\n",
    "        )\n",
    "\n",
    "        print(\"Waiting for a minute to allow IAM role policy attachment to propagate\")\n",
    "        for i in trange(60):\n",
    "            time.sleep(1.0)\n",
    "            \n",
    "    except iam.exceptions.EntityAlreadyExistsException:\n",
    "        print(\"The role \" + role_name + \" already exists, skipping creation\")\n",
    "        role_arn = boto3.resource('iam').Role(role_name).arn\n",
    "\n",
    "    print(\"Done.\")\n",
    "    return role_arn"
   ]
  },
  {
   "cell_type": "code",
   "execution_count": 48,
   "metadata": {},
   "outputs": [
    {
     "name": "stdout",
     "output_type": "stream",
     "text": [
      "The role ForecastNotebookRole-Basic already exists, skipping creation\n",
      "Done.\n"
     ]
    },
    {
     "data": {
      "text/plain": [
       "'arn:aws:iam::485822383573:role/ForecastNotebookRole-Basic'"
      ]
     },
     "execution_count": 48,
     "metadata": {},
     "output_type": "execute_result"
    }
   ],
   "source": [
    "role_arn = get_or_create_iam_role( role_name = 'ForecastNotebookRole-Basic' )\n",
    "role_arn"
   ]
  },
  {
   "cell_type": "code",
   "execution_count": 49,
   "metadata": {},
   "outputs": [
    {
     "name": "stderr",
     "output_type": "stream",
     "text": [
      "/opt/conda/lib/python3.7/site-packages/ipykernel_launcher.py:3: SettingWithCopyWarning: \n",
      "A value is trying to be set on a copy of a slice from a DataFrame.\n",
      "Try using .loc[row_indexer,col_indexer] = value instead\n",
      "\n",
      "See the caveats in the documentation: https://pandas.pydata.org/pandas-docs/stable/user_guide/indexing.html#returning-a-view-versus-a-copy\n",
      "  This is separate from the ipykernel package so we can avoid doing imports until\n"
     ]
    },
    {
     "data": {
      "image/png": "[encoded data removed]",
      "text/plain": [
       "<Figure size 1500x300 with 1 Axes>"
      ]
     },
     "metadata": {},
     "output_type": "display_data"
    }
   ],
   "source": [
    "hourly_raw['datum'] = pd.to_datetime(hourly_raw[\"datum\"])\n",
    "target_df=hourly_raw[['datum','M01AB']]\n",
    "target_df['item_id'] = \"M01AB\"\n",
    "\n",
    "target_df.head()\n",
    "\n",
    "target_df.to_csv('data/target_df.csv', index=False)\n",
    "plt.figure(figsize=(15, 3))\n",
    "plt.plot(target_df['datum'][:200], target_df['M01AB'][:200])\n",
    "plt.show()"
   ]
  },
  {
   "cell_type": "code",
   "execution_count": 50,
   "metadata": {},
   "outputs": [
    {
     "name": "stderr",
     "output_type": "stream",
     "text": [
      "/opt/conda/lib/python3.7/site-packages/ipykernel_launcher.py:3: SettingWithCopyWarning: \n",
      "A value is trying to be set on a copy of a slice from a DataFrame.\n",
      "Try using .loc[row_indexer,col_indexer] = value instead\n",
      "\n",
      "See the caveats in the documentation: https://pandas.pydata.org/pandas-docs/stable/user_guide/indexing.html#returning-a-view-versus-a-copy\n",
      "  This is separate from the ipykernel package so we can avoid doing imports until\n"
     ]
    },
    {
     "data": {
      "image/png": "[encoded data removed]",
      "text/plain": [
       "<Figure size 1000x500 with 1 Axes>"
      ]
     },
     "metadata": {},
     "output_type": "display_data"
    }
   ],
   "source": [
    "daily_raw['datum'] = pd.to_datetime(daily_raw[\"datum\"])\n",
    "target_df_daily=daily_raw[['datum','M01AB']]\n",
    "target_df_daily['item_id'] = \"M01AB\"\n",
    "\n",
    "target_df_daily.head()\n",
    "\n",
    "target_df_daily.to_csv('data/target_df_daily.csv', index=False)\n",
    "plt.figure(figsize=(10, 5))\n",
    "plt.plot(target_df_daily['datum'][:100], target_df_daily['M01AB'][:100])\n",
    "plt.show()"
   ]
  },
  {
   "cell_type": "code",
   "execution_count": 51,
   "metadata": {},
   "outputs": [
    {
     "name": "stdout",
     "output_type": "stream",
     "text": [
      "\n",
      "Done, the dataset is uploaded to S3 at s3://sagemaker-us-east-1-485822383573/chapter10/data/target_df.csv.\n"
     ]
    }
   ],
   "source": [
    "s3 = boto3.Session().resource('s3')\n",
    "s3.Bucket(bucket_name).Object(key+'/target_df.csv').upload_file('data/target_df.csv')\n",
    "ts_s3_path = f\"s3://{bucket_name}/{key}/target_df.csv\"\n",
    "\n",
    "print(f\"\\nDone, the dataset is uploaded to S3 at {ts_s3_path}.\")"
   ]
  },
  {
   "cell_type": "code",
   "execution_count": 52,
   "metadata": {},
   "outputs": [
    {
     "name": "stdout",
     "output_type": "stream",
     "text": [
      "\n",
      "Done, the dataset is uploaded to S3 at s3://sagemaker-us-east-1-485822383573/chapter10/data/target_df_daily.csv.\n"
     ]
    }
   ],
   "source": [
    "s3.Bucket(bucket_name).Object(key+'/target_df_daily.csv').upload_file('data/target_df_daily.csv')\n",
    "ts_s3_path_daily = f\"s3://{bucket_name}/{key}/target_df_daily.csv\"\n",
    "\n",
    "print(f\"\\nDone, the dataset is uploaded to S3 at {ts_s3_path_daily}.\")"
   ]
  },
  {
   "cell_type": "code",
   "execution_count": 60,
   "metadata": {},
   "outputs": [
    {
     "name": "stdout",
     "output_type": "stream",
     "text": [
      "Dataset group pharma_sales created with ARN: arn:aws:forecast:us-east-1:485822383573:dataset-group/pharma_sales\n"
     ]
    }
   ],
   "source": [
    "dataset_group_name = \"pharma_sales\"\n",
    "dataset_arns = []\n",
    "try:\n",
    "    create_dataset_group_response = \\\n",
    "        forecast.create_dataset_group(Domain=\"CUSTOM\",\n",
    "                                      DatasetGroupName=dataset_group_name,\n",
    "                                      DatasetArns=dataset_arns)\n",
    "    dataset_group_arn = create_dataset_group_response['DatasetGroupArn']\n",
    "    print('Dataset group {} created with ARN: {}'.format(dataset_group_name, dataset_group_arn))\n",
    "except:\n",
    "    dataset_group_arn='arn:aws:forecast:{}:{}:dataset-group/{}'.format(region, account_id, dataset_group_name)\n",
    "    response=forecast.describe_dataset_group(DatasetGroupArn=dataset_group_arn)\n",
    "    print('Dataset group {} created with ARN: {}'.format(dataset_group_name, response['DatasetGroupArn']))\n",
    "    "
   ]
  },
  {
   "cell_type": "code",
   "execution_count": 71,
   "metadata": {},
   "outputs": [
    {
     "name": "stdout",
     "output_type": "stream",
     "text": [
      "Dataset group pharma_sales_daily created with ARN: arn:aws:forecast:us-east-1:485822383573:dataset-group/pharma_sales_daily\n"
     ]
    }
   ],
   "source": [
    "dataset_group_name_daily = \"pharma_sales_daily\"\n",
    "dataset_arns_daily = []\n",
    "\n",
    "try:\n",
    "    create_dataset_group_response = \\\n",
    "        forecast.create_dataset_group(Domain=\"CUSTOM\",\n",
    "                                      DatasetGroupName=dataset_group_name_daily,\n",
    "                                      DatasetArns=dataset_arns_daily)\n",
    "    dataset_group_arn_daily = create_dataset_group_response['DatasetGroupArn']\n",
    "    print('Dataset group {} created with ARN: {}'.format(dataset_group_name_daily, dataset_group_arn))\n",
    "\n",
    "except:   \n",
    "    dataset_group_arn_daily='arn:aws:forecast:{}:{}:dataset-group/{}'.format(region, account_id, dataset_group_name_daily)\n",
    "    response=forecast.describe_dataset_group(DatasetGroupArn=dataset_group_arn_daily)\n",
    "    print('Dataset group {} created with ARN: {}'.format(dataset_group_name_daily, response['DatasetGroupArn']))\n",
    "    "
   ]
  },
  {
   "cell_type": "code",
   "execution_count": 72,
   "metadata": {},
   "outputs": [],
   "source": [
    "TS_SCHEMA = {\n",
    "   \"Attributes\":[\n",
    "      {\n",
    "         \"AttributeName\":\"timestamp\",\n",
    "         \"AttributeType\":\"timestamp\"\n",
    "      },\n",
    "      {\n",
    "         \"AttributeName\":\"target_value\",\n",
    "         \"AttributeType\":\"float\"\n",
    "      },\n",
    "      {\n",
    "         \"AttributeName\":\"item_id\",\n",
    "         \"AttributeType\":\"string\"\n",
    "      }\n",
    "   ]\n",
    "}"
   ]
  },
  {
   "cell_type": "code",
   "execution_count": 73,
   "metadata": {},
   "outputs": [
    {
     "name": "stdout",
     "output_type": "stream",
     "text": [
      "Dataset pharma_sales_MOIAB created with ARN: arn:aws:forecast:us-east-1:485822383573:dataset/pharma_sales_MOIAB\n"
     ]
    }
   ],
   "source": [
    "DATASET_FREQUENCY = \"H\" # H for hourly.\n",
    "TS_DATASET_NAME = dataset_group_name+\"_MOIAB\"\n",
    "try:\n",
    "    create_dataset_response = forecast.create_dataset(Domain=\"CUSTOM\",\n",
    "                                                      DatasetType='TARGET_TIME_SERIES',\n",
    "                                                      DatasetName=TS_DATASET_NAME,\n",
    "                                                      DataFrequency=DATASET_FREQUENCY,\n",
    "                                                      Schema=TS_SCHEMA)\n",
    "\n",
    "    ts_dataset_arn = create_dataset_response['DatasetArn']\n",
    "    print('Dataset {} created with ARN: {}'.format(TS_DATASET_NAME, ts_dataset_arn))\n",
    "except:\n",
    "    ts_dataset_arn='arn:aws:forecast:{}:{}:dataset/{}'.format(region, account_id, TS_DATASET_NAME)\n",
    "    response=describe_dataset_response = forecast.describe_dataset(DatasetArn=ts_dataset_arn)\n",
    "    print('Dataset {} created with ARN: {}'.format(TS_DATASET_NAME, response['DatasetArn']))"
   ]
  },
  {
   "cell_type": "code",
   "execution_count": 74,
   "metadata": {},
   "outputs": [
    {
     "name": "stdout",
     "output_type": "stream",
     "text": [
      "Dataset pharma_sales_MOIAB_DAILY created with ARN: arn:aws:forecast:us-east-1:485822383573:dataset/pharma_sales_MOIAB_DAILY\n"
     ]
    }
   ],
   "source": [
    "DATASET_FREQUENCY_D = \"D\"\n",
    "TS_DATASET_NAME_DAILY = dataset_group_name+\"_MOIAB_DAILY\"\n",
    "\n",
    "try:\n",
    "    create_dataset_response = forecast.create_dataset(Domain=\"CUSTOM\",\n",
    "                                                      DatasetType='TARGET_TIME_SERIES',\n",
    "                                                      DatasetName=TS_DATASET_NAME_DAILY,\n",
    "                                                      DataFrequency=DATASET_FREQUENCY_D,\n",
    "                                                      Schema=TS_SCHEMA)\n",
    "\n",
    "    ts_dataset_arn_daily = create_dataset_response['DatasetArn']\n",
    "    print('Dataset {} created with ARN: {}'.format(TS_DATASET_NAME_DAILY, ts_dataset_arn_daily))\n",
    "except:\n",
    "    ts_dataset_arn_daily='arn:aws:forecast:{}:{}:dataset/{}'.format(region, account_id, TS_DATASET_NAME_DAILY)\n",
    "    response=describe_dataset_response = forecast.describe_dataset(DatasetArn=ts_dataset_arn_daily)\n",
    "    print('Dataset {} created with ARN: {}'.format(TS_DATASET_NAME_DAILY, response['DatasetArn']))"
   ]
  },
  {
   "cell_type": "code",
   "execution_count": 75,
   "metadata": {},
   "outputs": [
    {
     "name": "stdout",
     "output_type": "stream",
     "text": [
      "['arn:aws:forecast:us-east-1:485822383573:dataset/pharma_sales_MOIAB']\n",
      "{'ResponseMetadata': {'RequestId': '56723ec4-5bd7-45d7-b381-ebcfe71c07dc', 'HTTPStatusCode': 200, 'HTTPHeaders': {'content-type': 'application/x-amz-json-1.1', 'date': 'Wed, 31 Aug 2022 00:21:55 GMT', 'x-amzn-requestid': '56723ec4-5bd7-45d7-b381-ebcfe71c07dc', 'content-length': '2', 'connection': 'keep-alive'}, 'RetryAttempts': 0}}\n"
     ]
    }
   ],
   "source": [
    "dataset_arns=[]\n",
    "dataset_arns.append(ts_dataset_arn)\n",
    "print(dataset_arns)\n",
    "try:\n",
    "    response=forecast.update_dataset_group(DatasetGroupArn=dataset_group_arn, DatasetArns=dataset_arns)\n",
    "    print(response)\n",
    "except:\n",
    "    response=forecast.describe_dataset_group(DatasetGroupArn=dataset_group_arn)\n",
    "    print(response)"
   ]
  },
  {
   "cell_type": "code",
   "execution_count": 76,
   "metadata": {},
   "outputs": [
    {
     "name": "stdout",
     "output_type": "stream",
     "text": [
      "['arn:aws:forecast:us-east-1:485822383573:dataset/pharma_sales_MOIAB_DAILY']\n",
      "{'ResponseMetadata': {'RequestId': '37db837e-d6d3-4612-9181-11806cf9a689', 'HTTPStatusCode': 200, 'HTTPHeaders': {'content-type': 'application/x-amz-json-1.1', 'date': 'Wed, 31 Aug 2022 00:22:22 GMT', 'x-amzn-requestid': '37db837e-d6d3-4612-9181-11806cf9a689', 'content-length': '2', 'connection': 'keep-alive'}, 'RetryAttempts': 0}}\n"
     ]
    }
   ],
   "source": [
    "dataset_arns=[]\n",
    "dataset_arns.append(ts_dataset_arn_daily)\n",
    "print(dataset_arns)\n",
    "try:\n",
    "    response=forecast.update_dataset_group(DatasetGroupArn=dataset_group_arn_daily, DatasetArns=dataset_arns)\n",
    "    print(response)\n",
    "except:\n",
    "    response=forecast.describe_dataset_group(DatasetGroupArn=dataset_group_arn_daily)\n",
    "    print(response)"
   ]
  },
  {
   "cell_type": "code",
   "execution_count": 77,
   "metadata": {},
   "outputs": [
    {
     "name": "stdout",
     "output_type": "stream",
     "text": [
      "\n",
      "\n",
      "The Dataset Import Job with ARN arn:aws:forecast:us-east-1:485822383573:dataset-import-job/pharma_sales_MOIAB/HOURLY_IMPORT is now ACTIVE.\n"
     ]
    }
   ],
   "source": [
    "import time\n",
    "TIMESTAMP_FORMAT = \"yyyy-MM-dd hh:mm:ss\"\n",
    "TS_IMPORT_JOB_NAME = \"HOURLY_IMPORT\"\n",
    "TIMEZONE = \"EST\"\n",
    "\n",
    "try:\n",
    "\n",
    "    ts_dataset_import_job_response = \\\n",
    "        forecast.create_dataset_import_job(DatasetImportJobName=TS_IMPORT_JOB_NAME,\n",
    "                                           DatasetArn=ts_dataset_arn,\n",
    "                                           DataSource= {\n",
    "                                             \"S3Config\" : {\n",
    "                                                 \"Path\": ts_s3_path,\n",
    "                                                 \"RoleArn\": role_arn\n",
    "                                             } \n",
    "                                           },\n",
    "                                           TimestampFormat=TIMESTAMP_FORMAT,\n",
    "                                           TimeZone = TIMEZONE)\n",
    "\n",
    "    ts_dataset_import_job_arn = ts_dataset_import_job_response['DatasetImportJobArn']\n",
    "    describe_dataset_import_job_response = forecast.describe_dataset_import_job(DatasetImportJobArn=ts_dataset_import_job_arn)\n",
    "    print(f\"Waiting for Dataset Import Job with ARN {ts_dataset_import_job_arn} to become ACTIVE. This process could take 5-10 minutes.\\n\\nCurrent Status:\")\n",
    "\n",
    "    while True:\n",
    "        status=forecast.describe_dataset_import_job(DatasetImportJobArn=ts_dataset_import_job_arn)['Status']\n",
    "        print(status)\n",
    "        if status in ('ACTIVE', 'CREATE_FAILED'): break\n",
    "        time.sleep(10)\n",
    "except:\n",
    "    ts_dataset_import_job_arn='arn:aws:forecast:{}:{}:dataset-import-job/{}/{}'.format(region, account_id, TS_DATASET_NAME,TS_IMPORT_JOB_NAME)\n",
    "    response=forecast.describe_dataset_import_job(DatasetImportJobArn=ts_dataset_import_job_arn)\n",
    "    print(f\"\\n\\nThe Dataset Import Job with ARN {ts_dataset_import_job_arn} is now {response['Status']}.\")"
   ]
  },
  {
   "cell_type": "code",
   "execution_count": 78,
   "metadata": {},
   "outputs": [
    {
     "name": "stdout",
     "output_type": "stream",
     "text": [
      "\n",
      "\n",
      "The Dataset Import Job with ARN arn:aws:forecast:us-east-1:485822383573:dataset-import-job/pharma_sales_MOIAB_DAILY/DAILY_IMPORT is now ACTIVE.\n"
     ]
    }
   ],
   "source": [
    "import time\n",
    "TIMESTAMP_FORMAT_DAILY = \"yyyy-MM-dd\"\n",
    "TS_IMPORT_JOB_NAME_DAILY = \"DAILY_IMPORT\"\n",
    "TIMEZONE = \"EST\"\n",
    "\n",
    "try:\n",
    "\n",
    "    ts_dataset_import_job_response = \\\n",
    "        forecast.create_dataset_import_job(DatasetImportJobName=TS_IMPORT_JOB_NAME_DAILY,\n",
    "                                           DatasetArn=ts_dataset_arn_daily,\n",
    "                                           DataSource= {\n",
    "                                             \"S3Config\" : {\n",
    "                                                 \"Path\": ts_s3_path_daily,\n",
    "                                                 \"RoleArn\": role_arn\n",
    "                                             } \n",
    "                                           },\n",
    "                                           TimestampFormat=TIMESTAMP_FORMAT_DAILY,\n",
    "                                           TimeZone = TIMEZONE)\n",
    "\n",
    "    ts_dataset_import_job_arn_daily = ts_dataset_import_job_response['DatasetImportJobArn']\n",
    "    describe_dataset_import_job_response = forecast.describe_dataset_import_job(DatasetImportJobArn=ts_dataset_import_job_arn_daily)\n",
    "    print(f\"Waiting for Dataset Import Job with ARN {ts_dataset_import_job_arn_daily} to become ACTIVE. This process could take 5-10 minutes.\\n\\nCurrent Status:\")\n",
    "\n",
    "    while True:\n",
    "        status=forecast.describe_dataset_import_job(DatasetImportJobArn=ts_dataset_import_job_arn_daily)['Status']\n",
    "        print(status)\n",
    "        if status in ('ACTIVE', 'CREATE_FAILED'): break\n",
    "        time.sleep(10)\n",
    "except:\n",
    "    ts_dataset_import_job_arn_daily='arn:aws:forecast:{}:{}:dataset-import-job/{}/{}'.format(region, account_id, TS_DATASET_NAME_DAILY,TS_IMPORT_JOB_NAME_DAILY)\n",
    "    response=forecast.describe_dataset_import_job(DatasetImportJobArn=ts_dataset_import_job_arn_daily)\n",
    "    print(f\"\\n\\nThe Dataset Import Job with ARN {ts_dataset_import_job_arn_daily} is now {response['Status']}.\")"
   ]
  },
  {
   "cell_type": "code",
   "execution_count": 79,
   "metadata": {},
   "outputs": [
    {
     "name": "stdout",
     "output_type": "stream",
     "text": [
      "Predictor Name = pharma_sales_MOIAB_deep_ar_plus\n"
     ]
    }
   ],
   "source": [
    "algorithm_arn = 'arn:aws:forecast:::algorithm/'\n",
    "algorithm = 'Deep_AR_Plus'\n",
    "algorithm_arn_deep_ar_plus = algorithm_arn + algorithm\n",
    "predictor_name_deep_ar = f\"{TS_DATASET_NAME}_{algorithm.lower()}\"\n",
    "print(f\"Predictor Name = {predictor_name_deep_ar}\")"
   ]
  },
  {
   "cell_type": "code",
   "execution_count": 80,
   "metadata": {},
   "outputs": [
    {
     "name": "stdout",
     "output_type": "stream",
     "text": [
      "Predictor with ARN arn:aws:forecast:us-east-1:485822383573:predictor/pharma_sales_MOIAB_deep_ar_plus: ACTIVE\n"
     ]
    }
   ],
   "source": [
    "FORECAST_LENGTH = 24\n",
    "\n",
    "try:\n",
    "    create_predictor_response = \\\n",
    "        forecast.create_predictor(PredictorName=predictor_name_deep_ar,\n",
    "                                  AlgorithmArn=algorithm_arn_deep_ar_plus,\n",
    "                                  ForecastHorizon=FORECAST_LENGTH,\n",
    "                                  PerformAutoML=False,\n",
    "                                  PerformHPO=False,\n",
    "                                  InputDataConfig= {\"DatasetGroupArn\": dataset_group_arn},\n",
    "                                  FeaturizationConfig= {\"ForecastFrequency\": 'H'}\n",
    "                                 )\n",
    "    predictor_arn_deep_ar = create_predictor_response['PredictorArn']\n",
    "    print(f\"Waiting for predictor with ARN {predictor_arn_deep_ar} to become ACTIVE. This process could take 20-30 minutes.\\n\\nCurrent Status:\")\n",
    "    while True:\n",
    "        status=forecast.describe_predictor(PredictorArn=predictor_arn_deep_ar)['Status']\n",
    "        print(status)\n",
    "        if status in ('ACTIVE', 'CREATE_FAILED'): break\n",
    "        time.sleep(10)\n",
    "    print(f\"Predictor with ARN {predictor_arn_deep_ar} :{status}\")\n",
    "except:\n",
    "    predictor_arn_deep_ar='arn:aws:forecast:{}:{}:predictor/{}'.format(region, account_id, predictor_name_deep_ar)\n",
    "    status=forecast.describe_predictor(PredictorArn=predictor_arn_deep_ar)['Status']\n",
    "    print(f\"Predictor with ARN {predictor_arn_deep_ar}: {status}\")\n",
    "    "
   ]
  },
  {
   "cell_type": "code",
   "execution_count": 81,
   "metadata": {},
   "outputs": [
    {
     "name": "stdout",
     "output_type": "stream",
     "text": [
      "Predictor Name = pharma_sales_MOIAB_DAILY_prophet\n"
     ]
    }
   ],
   "source": [
    "algorithm_daily = 'Prophet'\n",
    "algorithm_arn_prophet = algorithm_arn + algorithm_daily\n",
    "predictor_name_prophet = f\"{TS_DATASET_NAME_DAILY}_{algorithm_daily.lower()}\"\n",
    "print(f\"Predictor Name = {predictor_name_prophet}\")"
   ]
  },
  {
   "cell_type": "code",
   "execution_count": 82,
   "metadata": {},
   "outputs": [
    {
     "name": "stdout",
     "output_type": "stream",
     "text": [
      "Predictor with ARN arn:aws:forecast:us-east-1:485822383573:predictor/pharma_sales_MOIAB_DAILY_prophet: ACTIVE\n"
     ]
    }
   ],
   "source": [
    "FORECAST_LENGTH = 10\n",
    "\n",
    "try:\n",
    "    create_predictor_response = \\\n",
    "        forecast.create_predictor(PredictorName=predictor_name_prophet,\n",
    "                                  AlgorithmArn=algorithm_arn_prophet,\n",
    "                                  ForecastHorizon=FORECAST_LENGTH,\n",
    "                                  PerformAutoML=False,\n",
    "                                  PerformHPO=False,\n",
    "                                  InputDataConfig= {\"DatasetGroupArn\": dataset_group_arn_daily},\n",
    "                                  FeaturizationConfig= {\"ForecastFrequency\": 'D'}\n",
    "                                 )\n",
    "    predictor_arn_prophet = create_predictor_response['PredictorArn']\n",
    "    print(f\"Waiting for predictor with ARN {predictor_arn_prophet} to become ACTIVE. This process could take 20-30 minutes.\\n\\nCurrent Status:\")\n",
    "    while True:\n",
    "        status=forecast.describe_predictor(PredictorArn=predictor_arn_prophet)['Status']\n",
    "        print(status)\n",
    "        if status in ('ACTIVE', 'CREATE_FAILED'): break\n",
    "        time.sleep(10)\n",
    "except:\n",
    "    predictor_arn_prophet='arn:aws:forecast:{}:{}:predictor/{}'.format(region, account_id, predictor_name_prophet)\n",
    "    status=forecast.describe_predictor(PredictorArn=predictor_arn_prophet)['Status']\n",
    "    print(f\"Predictor with ARN {predictor_arn_prophet}: {status}\")\n",
    "    "
   ]
  },
  {
   "cell_type": "code",
   "execution_count": 83,
   "metadata": {},
   "outputs": [
    {
     "data": {
      "text/plain": [
       "{'PredictorEvaluationResults': [{'AlgorithmArn': 'arn:aws:forecast:::algorithm/Deep_AR_Plus',\n",
       "   'TestWindows': [{'EvaluationType': 'SUMMARY',\n",
       "     'Metrics': {'RMSE': 0.06799650728058045,\n",
       "      'WeightedQuantileLosses': [{'Quantile': 0.9,\n",
       "        'LossValue': 2.0969126952121213},\n",
       "       {'Quantile': 0.5, 'LossValue': 1.1322591406060607},\n",
       "       {'Quantile': 0.1, 'LossValue': 0.47394512951515155}],\n",
       "      'ErrorMetrics': [{'ForecastType': 'mean',\n",
       "        'WAPE': 1.3516351381818186,\n",
       "        'RMSE': 0.06799650728058045,\n",
       "        'MASE': 0.6476585037121213,\n",
       "        'MAPE': 0.041576848169191924}],\n",
       "      'AverageWeightedQuantileLoss': 1.2343723217777778}},\n",
       "    {'TestWindowStart': datetime.datetime(2019, 10, 7, 20, 0, tzinfo=tzlocal()),\n",
       "     'TestWindowEnd': datetime.datetime(2019, 10, 8, 20, 0, tzinfo=tzlocal()),\n",
       "     'ItemCount': 1,\n",
       "     'EvaluationType': 'COMPUTED',\n",
       "     'Metrics': {'RMSE': 0.06799650728058045,\n",
       "      'WeightedQuantileLosses': [{'Quantile': 0.9,\n",
       "        'LossValue': 2.0969126952121213},\n",
       "       {'Quantile': 0.5, 'LossValue': 1.1322591406060607},\n",
       "       {'Quantile': 0.1, 'LossValue': 0.47394512951515155}],\n",
       "      'ErrorMetrics': [{'ForecastType': 'mean',\n",
       "        'WAPE': 1.3516351381818186,\n",
       "        'RMSE': 0.06799650728058045,\n",
       "        'MASE': 0.6476585037121213,\n",
       "        'MAPE': 0.041576848169191924}],\n",
       "      'AverageWeightedQuantileLoss': 1.2343723217777778}}]}],\n",
       " 'IsAutoPredictor': False,\n",
       " 'ResponseMetadata': {'RequestId': 'b14d84bb-ddd4-450f-86a8-935897fd6ed7',\n",
       "  'HTTPStatusCode': 200,\n",
       "  'HTTPHeaders': {'content-type': 'application/x-amz-json-1.1',\n",
       "   'date': 'Wed, 31 Aug 2022 00:23:04 GMT',\n",
       "   'x-amzn-requestid': 'b14d84bb-ddd4-450f-86a8-935897fd6ed7',\n",
       "   'content-length': '1080',\n",
       "   'connection': 'keep-alive'},\n",
       "  'RetryAttempts': 0}}"
      ]
     },
     "execution_count": 83,
     "metadata": {},
     "output_type": "execute_result"
    }
   ],
   "source": [
    "error_metrics_deep_ar_plus = forecast.get_accuracy_metrics(PredictorArn=predictor_arn_deep_ar)\n",
    "error_metrics_deep_ar_plus"
   ]
  },
  {
   "cell_type": "code",
   "execution_count": 84,
   "metadata": {},
   "outputs": [
    {
     "data": {
      "text/plain": [
       "{'PredictorEvaluationResults': [{'AlgorithmArn': 'arn:aws:forecast:::algorithm/Prophet',\n",
       "   'TestWindows': [{'EvaluationType': 'SUMMARY',\n",
       "     'Metrics': {'RMSE': 3.153945722472903,\n",
       "      'WeightedQuantileLosses': [{'Quantile': 0.9,\n",
       "        'LossValue': 0.26808240230829533},\n",
       "       {'Quantile': 0.5, 'LossValue': 0.5510308508287483},\n",
       "       {'Quantile': 0.1, 'LossValue': 0.1956379955444281}],\n",
       "      'ErrorMetrics': [{'ForecastType': 'mean',\n",
       "        'WAPE': 0.5290025393847725,\n",
       "        'RMSE': 3.153945722472903,\n",
       "        'MASE': 0.7080495527150034,\n",
       "        'MAPE': 1.9635671560299386}],\n",
       "      'AverageWeightedQuantileLoss': 0.3382504162271572}},\n",
       "    {'TestWindowStart': datetime.datetime(2019, 9, 29, 0, 0, tzinfo=tzlocal()),\n",
       "     'TestWindowEnd': datetime.datetime(2019, 10, 9, 0, 0, tzinfo=tzlocal()),\n",
       "     'ItemCount': 1,\n",
       "     'EvaluationType': 'COMPUTED',\n",
       "     'Metrics': {'RMSE': 3.153945722472903,\n",
       "      'WeightedQuantileLosses': [{'Quantile': 0.9,\n",
       "        'LossValue': 0.26808240230829533},\n",
       "       {'Quantile': 0.5, 'LossValue': 0.5510308508287483},\n",
       "       {'Quantile': 0.1, 'LossValue': 0.1956379955444281}],\n",
       "      'ErrorMetrics': [{'ForecastType': 'mean',\n",
       "        'WAPE': 0.5290025393847725,\n",
       "        'RMSE': 3.153945722472903,\n",
       "        'MASE': 0.7080495527150034,\n",
       "        'MAPE': 1.9635671560299386}],\n",
       "      'AverageWeightedQuantileLoss': 0.3382504162271572}}]}],\n",
       " 'IsAutoPredictor': False,\n",
       " 'ResponseMetadata': {'RequestId': '41e06734-46de-443e-8103-eefef1b75e7a',\n",
       "  'HTTPStatusCode': 200,\n",
       "  'HTTPHeaders': {'content-type': 'application/x-amz-json-1.1',\n",
       "   'date': 'Wed, 31 Aug 2022 00:23:06 GMT',\n",
       "   'x-amzn-requestid': '41e06734-46de-443e-8103-eefef1b75e7a',\n",
       "   'content-length': '1063',\n",
       "   'connection': 'keep-alive'},\n",
       "  'RetryAttempts': 0}}"
      ]
     },
     "execution_count": 84,
     "metadata": {},
     "output_type": "execute_result"
    }
   ],
   "source": [
    "error_metrics_deep_prophet = forecast.get_accuracy_metrics(PredictorArn=predictor_arn_prophet)\n",
    "error_metrics_deep_prophet"
   ]
  },
  {
   "cell_type": "code",
   "execution_count": 85,
   "metadata": {},
   "outputs": [
    {
     "name": "stdout",
     "output_type": "stream",
     "text": [
      "Forecast Name = pharma_sales_MOIAB_deeparp\n"
     ]
    }
   ],
   "source": [
    "forecast_name_deep_ar = f\"{TS_DATASET_NAME}_deeparp\"\n",
    "print(f\"Forecast Name = {forecast_name_deep_ar}\")"
   ]
  },
  {
   "cell_type": "code",
   "execution_count": 86,
   "metadata": {},
   "outputs": [
    {
     "name": "stdout",
     "output_type": "stream",
     "text": [
      "Forecast arn:aws:forecast:us-east-1:485822383573:forecast/pharma_sales_MOIAB_deeparp: ACTIVE\n"
     ]
    }
   ],
   "source": [
    "try:\n",
    "    create_forecast_response_deep_ar = forecast.create_forecast(ForecastName=forecast_name_deep_ar,\n",
    "                                                            PredictorArn=predictor_arn_deep_ar)\n",
    "    forecast_arn_deep_ar = create_forecast_response_deep_ar['ForecastArn']\n",
    "    print('creating forecast...')\n",
    "    while True:\n",
    "        status=forecast.describe_forecast(ForecastArn=forecast_arn_deep_ar)['Status']\n",
    "        print(status)\n",
    "        if status in ('ACTIVE', 'CREATE_FAILED'): break\n",
    "        time.sleep(10)\n",
    "    print('Forecast {}: {}'.format(forecast_arn_deep_ar, status))\n",
    "except:\n",
    "    forecast_arn_deep_ar='arn:aws:forecast:{}:{}:forecast/{}'.format(region, account_id, forecast_name_deep_ar)\n",
    "    status=forecast.describe_forecast(ForecastArn=forecast_arn_deep_ar)['Status']\n",
    "    print('Forecast {}: {}'.format(forecast_arn_deep_ar, status))\n",
    "    \n",
    "    "
   ]
  },
  {
   "cell_type": "code",
   "execution_count": 87,
   "metadata": {},
   "outputs": [
    {
     "data": {
      "text/plain": [
       "{'Forecast': {'Predictions': {'p10': [{'Timestamp': '2019-10-08T20:00:00',\n",
       "     'Value': -0.0212139282},\n",
       "    {'Timestamp': '2019-10-08T21:00:00', 'Value': -0.023361275},\n",
       "    {'Timestamp': '2019-10-08T22:00:00', 'Value': -0.0044957907},\n",
       "    {'Timestamp': '2019-10-08T23:00:00', 'Value': -0.0029490117},\n",
       "    {'Timestamp': '2019-10-09T00:00:00', 'Value': -0.0014466448},\n",
       "    {'Timestamp': '2019-10-09T01:00:00', 'Value': -0.0008959283},\n",
       "    {'Timestamp': '2019-10-09T02:00:00', 'Value': -0.0005988376},\n",
       "    {'Timestamp': '2019-10-09T03:00:00', 'Value': -0.0009790345},\n",
       "    {'Timestamp': '2019-10-09T04:00:00', 'Value': -0.0011201639},\n",
       "    {'Timestamp': '2019-10-09T05:00:00', 'Value': -0.0009358527},\n",
       "    {'Timestamp': '2019-10-09T06:00:00', 'Value': -0.0010048471},\n",
       "    {'Timestamp': '2019-10-09T07:00:00', 'Value': -0.0019908166},\n",
       "    {'Timestamp': '2019-10-09T08:00:00', 'Value': -0.0163108818},\n",
       "    {'Timestamp': '2019-10-09T09:00:00', 'Value': -0.0297796},\n",
       "    {'Timestamp': '2019-10-09T10:00:00', 'Value': -0.0214786325},\n",
       "    {'Timestamp': '2019-10-09T11:00:00', 'Value': -0.0617572851},\n",
       "    {'Timestamp': '2019-10-09T12:00:00', 'Value': -0.0143956831},\n",
       "    {'Timestamp': '2019-10-09T13:00:00', 'Value': -0.0281845648},\n",
       "    {'Timestamp': '2019-10-09T14:00:00', 'Value': -0.0408971384},\n",
       "    {'Timestamp': '2019-10-09T15:00:00', 'Value': -0.0309351012},\n",
       "    {'Timestamp': '2019-10-09T16:00:00', 'Value': -0.0075989841},\n",
       "    {'Timestamp': '2019-10-09T17:00:00', 'Value': -0.029596528},\n",
       "    {'Timestamp': '2019-10-09T18:00:00', 'Value': -0.0202959925},\n",
       "    {'Timestamp': '2019-10-09T19:00:00', 'Value': -0.0466531888}],\n",
       "   'p50': [{'Timestamp': '2019-10-08T20:00:00', 'Value': 0.009824588},\n",
       "    {'Timestamp': '2019-10-08T21:00:00', 'Value': -0.0093858894},\n",
       "    {'Timestamp': '2019-10-08T22:00:00', 'Value': -0.0003118863},\n",
       "    {'Timestamp': '2019-10-08T23:00:00', 'Value': -0.0006332354},\n",
       "    {'Timestamp': '2019-10-09T00:00:00', 'Value': 0.0002008146},\n",
       "    {'Timestamp': '2019-10-09T01:00:00', 'Value': 1.13746e-05},\n",
       "    {'Timestamp': '2019-10-09T02:00:00', 'Value': 0.0002427527},\n",
       "    {'Timestamp': '2019-10-09T03:00:00', 'Value': 0.0001458814},\n",
       "    {'Timestamp': '2019-10-09T04:00:00', 'Value': 0.0001562905},\n",
       "    {'Timestamp': '2019-10-09T05:00:00', 'Value': 0.0002700309},\n",
       "    {'Timestamp': '2019-10-09T06:00:00', 'Value': 1.05019e-05},\n",
       "    {'Timestamp': '2019-10-09T07:00:00', 'Value': -3.62558e-05},\n",
       "    {'Timestamp': '2019-10-09T08:00:00', 'Value': 0.0003192034},\n",
       "    {'Timestamp': '2019-10-09T09:00:00', 'Value': -0.0014909819},\n",
       "    {'Timestamp': '2019-10-09T10:00:00', 'Value': 0.0047524776},\n",
       "    {'Timestamp': '2019-10-09T11:00:00', 'Value': 0.0137725994},\n",
       "    {'Timestamp': '2019-10-09T12:00:00', 'Value': 0.0072578783},\n",
       "    {'Timestamp': '2019-10-09T13:00:00', 'Value': 0.0027072127},\n",
       "    {'Timestamp': '2019-10-09T14:00:00', 'Value': -0.003779907},\n",
       "    {'Timestamp': '2019-10-09T15:00:00', 'Value': -0.0070509491},\n",
       "    {'Timestamp': '2019-10-09T16:00:00', 'Value': 0.0010305096},\n",
       "    {'Timestamp': '2019-10-09T17:00:00', 'Value': -0.0048364527},\n",
       "    {'Timestamp': '2019-10-09T18:00:00', 'Value': -0.0031817532},\n",
       "    {'Timestamp': '2019-10-09T19:00:00', 'Value': -0.0053151241}],\n",
       "   'p90': [{'Timestamp': '2019-10-08T20:00:00', 'Value': 0.0455300137},\n",
       "    {'Timestamp': '2019-10-08T21:00:00', 'Value': 0.0007711062},\n",
       "    {'Timestamp': '2019-10-08T22:00:00', 'Value': 0.0031573647},\n",
       "    {'Timestamp': '2019-10-08T23:00:00', 'Value': 0.0009446154},\n",
       "    {'Timestamp': '2019-10-09T00:00:00', 'Value': 0.0017010999},\n",
       "    {'Timestamp': '2019-10-09T01:00:00', 'Value': 0.0012442457},\n",
       "    {'Timestamp': '2019-10-09T02:00:00', 'Value': 0.0011998024},\n",
       "    {'Timestamp': '2019-10-09T03:00:00', 'Value': 0.0009873064},\n",
       "    {'Timestamp': '2019-10-09T04:00:00', 'Value': 0.001041426},\n",
       "    {'Timestamp': '2019-10-09T05:00:00', 'Value': 0.0013170851},\n",
       "    {'Timestamp': '2019-10-09T06:00:00', 'Value': 0.0007780629},\n",
       "    {'Timestamp': '2019-10-09T07:00:00', 'Value': 0.0022129393},\n",
       "    {'Timestamp': '2019-10-09T08:00:00', 'Value': 0.0195394475},\n",
       "    {'Timestamp': '2019-10-09T09:00:00', 'Value': 0.0287634619},\n",
       "    {'Timestamp': '2019-10-09T10:00:00', 'Value': 0.0386380404},\n",
       "    {'Timestamp': '2019-10-09T11:00:00', 'Value': 0.0989017263},\n",
       "    {'Timestamp': '2019-10-09T12:00:00', 'Value': 0.041786395},\n",
       "    {'Timestamp': '2019-10-09T13:00:00', 'Value': 0.0404049084},\n",
       "    {'Timestamp': '2019-10-09T14:00:00', 'Value': 0.0263219178},\n",
       "    {'Timestamp': '2019-10-09T15:00:00', 'Value': 0.0209658835},\n",
       "    {'Timestamp': '2019-10-09T16:00:00', 'Value': 0.0117285904},\n",
       "    {'Timestamp': '2019-10-09T17:00:00', 'Value': 0.0147714615},\n",
       "    {'Timestamp': '2019-10-09T18:00:00', 'Value': 0.041857481},\n",
       "    {'Timestamp': '2019-10-09T19:00:00', 'Value': 0.0361062884}]}},\n",
       " 'ResponseMetadata': {'RequestId': '82f77f47-fc0c-472d-85a4-58761f3711b6',\n",
       "  'HTTPStatusCode': 200,\n",
       "  'HTTPHeaders': {'content-type': 'application/x-amz-json-1.1',\n",
       "   'date': 'Wed, 31 Aug 2022 00:23:22 GMT',\n",
       "   'x-amzn-requestid': '82f77f47-fc0c-472d-85a4-58761f3711b6',\n",
       "   'content-length': '4160',\n",
       "   'connection': 'keep-alive'},\n",
       "  'RetryAttempts': 0}}"
      ]
     },
     "execution_count": 87,
     "metadata": {},
     "output_type": "execute_result"
    }
   ],
   "source": [
    "forecast_response_deep = forecastquery.query_forecast(\n",
    "    ForecastArn=forecast_arn_deep_ar,\n",
    "    Filters={\"item_id\": 'M01AB'})\n",
    "forecast_response_deep"
   ]
  },
  {
   "cell_type": "code",
   "execution_count": 88,
   "metadata": {},
   "outputs": [
    {
     "name": "stdout",
     "output_type": "stream",
     "text": [
      "Forecast Name = pharma_sales_MOIAB_DAILY_prophetp\n"
     ]
    }
   ],
   "source": [
    "forecast_name_prophet = f\"{TS_DATASET_NAME_DAILY}_prophetp\"\n",
    "print(f\"Forecast Name = {forecast_name_prophet}\")"
   ]
  },
  {
   "cell_type": "code",
   "execution_count": 89,
   "metadata": {},
   "outputs": [
    {
     "name": "stdout",
     "output_type": "stream",
     "text": [
      "Forecast arn:aws:forecast:us-east-1:485822383573:forecast/pharma_sales_MOIAB_DAILY_prophetp: ACTIVE\n"
     ]
    }
   ],
   "source": [
    "try:\n",
    "    create_forecast_response_prophet = forecast.create_forecast(ForecastName=forecast_name_prophet,\n",
    "                                                            PredictorArn=predictor_arn_prophet)\n",
    "    forecast_arn_prophet = create_forecast_response_prophet['ForecastArn']\n",
    "    print('creating forecast...')\n",
    "    while True:\n",
    "        status=forecast.describe_forecast(ForecastArn=forecast_arn_prophet)['Status']\n",
    "        print(status)\n",
    "        if status in ('ACTIVE', 'CREATE_FAILED'): break\n",
    "        time.sleep(10)\n",
    "except:\n",
    "    forecast_arn_prophet='arn:aws:forecast:{}:{}:forecast/{}'.format(region, account_id, forecast_name_prophet)\n",
    "    status=forecast.describe_forecast(ForecastArn=forecast_arn_prophet)['Status']\n",
    "    print('Forecast {}: {}'.format(forecast_arn_prophet, status))"
   ]
  },
  {
   "cell_type": "code",
   "execution_count": 90,
   "metadata": {},
   "outputs": [
    {
     "data": {
      "text/plain": [
       "{'Forecast': {'Predictions': {'p10': [{'Timestamp': '2019-10-09T00:00:00',\n",
       "     'Value': 1.3382125412600696},\n",
       "    {'Timestamp': '2019-10-10T00:00:00', 'Value': 1.8837877421191611},\n",
       "    {'Timestamp': '2019-10-11T00:00:00', 'Value': 1.777975049643957},\n",
       "    {'Timestamp': '2019-10-12T00:00:00', 'Value': 1.8768830514973},\n",
       "    {'Timestamp': '2019-10-13T00:00:00', 'Value': 1.9206473020592258},\n",
       "    {'Timestamp': '2019-10-14T00:00:00', 'Value': 2.0542500872614182},\n",
       "    {'Timestamp': '2019-10-15T00:00:00', 'Value': 1.3094920806145498},\n",
       "    {'Timestamp': '2019-10-16T00:00:00', 'Value': 0.9727950537685568},\n",
       "    {'Timestamp': '2019-10-17T00:00:00', 'Value': 1.8529310731994326},\n",
       "    {'Timestamp': '2019-10-18T00:00:00', 'Value': 0.8195599891924861}],\n",
       "   'p50': [{'Timestamp': '2019-10-09T00:00:00', 'Value': 4.863602685032175},\n",
       "    {'Timestamp': '2019-10-10T00:00:00', 'Value': 4.742595958515514},\n",
       "    {'Timestamp': '2019-10-11T00:00:00', 'Value': 4.975498119419591},\n",
       "    {'Timestamp': '2019-10-12T00:00:00', 'Value': 6.011736389668678},\n",
       "    {'Timestamp': '2019-10-13T00:00:00', 'Value': 5.2187849815610114},\n",
       "    {'Timestamp': '2019-10-14T00:00:00', 'Value': 5.365400990157622},\n",
       "    {'Timestamp': '2019-10-15T00:00:00', 'Value': 4.462731594403537},\n",
       "    {'Timestamp': '2019-10-16T00:00:00', 'Value': 3.8096782986532425},\n",
       "    {'Timestamp': '2019-10-17T00:00:00', 'Value': 4.667628187789289},\n",
       "    {'Timestamp': '2019-10-18T00:00:00', 'Value': 4.833509660005502}],\n",
       "   'p90': [{'Timestamp': '2019-10-09T00:00:00', 'Value': 7.485365892528444},\n",
       "    {'Timestamp': '2019-10-10T00:00:00', 'Value': 8.437669886995216},\n",
       "    {'Timestamp': '2019-10-11T00:00:00', 'Value': 7.784899576140879},\n",
       "    {'Timestamp': '2019-10-12T00:00:00', 'Value': 8.833080645017738},\n",
       "    {'Timestamp': '2019-10-13T00:00:00', 'Value': 8.671749222039395},\n",
       "    {'Timestamp': '2019-10-14T00:00:00', 'Value': 8.80927279658832},\n",
       "    {'Timestamp': '2019-10-15T00:00:00', 'Value': 7.746341953117809},\n",
       "    {'Timestamp': '2019-10-16T00:00:00', 'Value': 7.773443000841901},\n",
       "    {'Timestamp': '2019-10-17T00:00:00', 'Value': 7.535588559139808},\n",
       "    {'Timestamp': '2019-10-18T00:00:00', 'Value': 8.057912275691946}]}},\n",
       " 'ResponseMetadata': {'RequestId': 'ca9e054a-0bde-47e1-9c99-2d59df328b52',\n",
       "  'HTTPStatusCode': 200,\n",
       "  'HTTPHeaders': {'content-type': 'application/x-amz-json-1.1',\n",
       "   'date': 'Wed, 31 Aug 2022 00:23:37 GMT',\n",
       "   'x-amzn-requestid': 'ca9e054a-0bde-47e1-9c99-2d59df328b52',\n",
       "   'content-length': '1921',\n",
       "   'connection': 'keep-alive'},\n",
       "  'RetryAttempts': 0}}"
      ]
     },
     "execution_count": 90,
     "metadata": {},
     "output_type": "execute_result"
    }
   ],
   "source": [
    "forecast_response_prophet = forecastquery.query_forecast(\n",
    "    ForecastArn=forecast_arn_prophet,\n",
    "    Filters={\"item_id\": 'M01AB'})\n",
    "forecast_response_prophet"
   ]
  },
  {
   "cell_type": "code",
   "execution_count": 93,
   "metadata": {},
   "outputs": [
    {
     "data": {
      "image/png": "[encoded data removed]",
      "text/plain": [
       "<Figure size 640x480 with 1 Axes>"
      ]
     },
     "metadata": {},
     "output_type": "display_data"
    }
   ],
   "source": [
    "p10 = pd.DataFrame(forecast_response_deep['Forecast']['Predictions']['p10'])\n",
    "p50 = pd.DataFrame(forecast_response_deep['Forecast']['Predictions']['p50'])\n",
    "p90 = pd.DataFrame(forecast_response_deep['Forecast']['Predictions']['p90'])\n",
    "pred_int = p50['Timestamp'].apply(lambda x: pd.Timestamp(x))\n",
    "fcst_start_date = pred_int.iloc[0]\n",
    "fcst_end_date = pred_int.iloc[-1]\n",
    "time_int = target_df['datum'].apply(lambda x: pd.Timestamp(x))\n",
    "plt.plot(time_int[-40:],target_df['M01AB'].values[-40:], color = 'r')\n",
    "plt.plot(pred_int, p50['Value'].values, color = 'k')\n",
    "plt.fill_between(pred_int, \n",
    "                 p10['Value'].values,\n",
    "                 p90['Value'].values,\n",
    "                 color='b', alpha=0.3);\n",
    "plt.axvline(x=pd.Timestamp(fcst_start_date), linewidth=3, color='g', ls='dashed')\n",
    "plt.axvline(x=pd.Timestamp(fcst_end_date), linewidth=3, color='g', ls='dashed')\n",
    "plt.xticks(rotation=20)\n",
    "plt.legend(['Target', 'Forecast'], loc = 'lower left')\n",
    "plt.show()"
   ]
  },
  {
   "cell_type": "code",
   "execution_count": 95,
   "metadata": {},
   "outputs": [
    {
     "data": {
      "image/png": "[encoded data removed]",
      "text/plain": [
       "<Figure size 640x480 with 1 Axes>"
      ]
     },
     "metadata": {},
     "output_type": "display_data"
    }
   ],
   "source": [
    "p10 = pd.DataFrame(forecast_response_prophet['Forecast']['Predictions']['p10'])\n",
    "p50 = pd.DataFrame(forecast_response_prophet['Forecast']['Predictions']['p50'])\n",
    "p90 = pd.DataFrame(forecast_response_prophet['Forecast']['Predictions']['p90'])\n",
    "pred_int = p50['Timestamp'].apply(lambda x: pd.Timestamp(x))\n",
    "fcst_start_date = pred_int.iloc[0]\n",
    "fcst_end_date = pred_int.iloc[-1]\n",
    "time_int = target_df_daily['datum'].apply(lambda x: pd.Timestamp(x))\n",
    "plt.plot(time_int[-80:],target_df_daily['M01AB'].values[-80:], color = 'r')\n",
    "plt.plot(pred_int, p50['Value'].values, color = 'k')\n",
    "plt.fill_between(pred_int, \n",
    "                 p10['Value'].values,\n",
    "                 p90['Value'].values,\n",
    "                 color='b', alpha=0.3);\n",
    "plt.axvline(x=pd.Timestamp(fcst_start_date), linewidth=3, color='g', ls='dashed')\n",
    "plt.axvline(x=pd.Timestamp(fcst_end_date), linewidth=3, color='g', ls='dashed')\n",
    "plt.xticks(rotation=20)\n",
    "plt.legend(['Target', 'Forecast'], loc = 'lower left')\n",
    "plt.show()"
   ]
  }
 ],
 "metadata": {
  "instance_type": "ml.t3.medium",
  "kernelspec": {
   "display_name": "Python 3 (Data Science)",
   "language": "python",
   "name": "python3__SAGEMAKER_INTERNAL__arn:aws:sagemaker:us-east-1:081325390199:image/datascience-1.0"
  },
  "language_info": {
   "codemirror_mode": {
    "name": "ipython",
    "version": 3
   },
   "file_extension": ".py",
   "mimetype": "text/x-python",
   "name": "python",
   "nbconvert_exporter": "python",
   "pygments_lexer": "ipython3",
   "version": "3.7.10"
  }
 },
 "nbformat": 4,
 "nbformat_minor": 4
}
